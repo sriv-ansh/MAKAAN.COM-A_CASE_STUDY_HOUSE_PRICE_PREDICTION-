{
 "cells": [
  {
   "cell_type": "markdown",
   "id": "e5b906a7",
   "metadata": {},
   "source": [
    "### 1) About the Dataset\n",
    "This dataset provides comprehensive information about rental house prices across various locations in India. It includes details such as house type, size, location, city, latitude, longitude, price, currency, number of bathrooms, number of balconies, negotiability of price, price per square foot, verification date, description of the property, security deposit, and status of furnishing (furnished, unfurnished, semi-furnished).\n",
    "\n",
    "Note: This is Recently scraped data of April 2024.\n",
    "\n",
    "We Having 3 Big Cities Dataset \n",
    "* 1) Delhi \n",
    "* 2) Mumbai\n",
    "* 3) Pune\n",
    "\n",
    "We'll Train we our model for all the big cities\n",
    "\n",
    "#### About the Columns\n",
    "* 1) **House Type:** Type of house (e.g., apartment, villa, duplex).\n",
    "* 2) **House Size:** Size of the house in square feet or square meters.\n",
    "* 3) **Location:** Specific area or neighborhood where the property is located.\n",
    "* 4) **City:** City in India where the property is situated.\n",
    "* 5) **Latitude:** Geographic latitude coordinates of the property location.\n",
    "* 6) **Longitude:** Geographic longitude coordinates of the property location.\n",
    "* 7) **Price:** Rental price of the house.\n",
    "* 8) **Currency:** Currency in which the price is denoted (e.g., INR - Indian Rupees).\n",
    "* 9) **Number of Bathrooms:** Total number of bathrooms in the house.\n",
    "* 10) **Number of Balconies:** Total number of balconies in the house.\n",
    "* 11) **Negotiability:** Indicates whether the price is negotiable (Yes/No).\n",
    "* 12) **Price per Square Foot:** Price of the house per square foot.\n",
    "* 13) **Verification Date:** Date when the rental information was verified.\n",
    "* 14) **Description:** Additional description or details about the property.\n",
    "* 15) **Security Deposit:** Amount of security deposit required for renting the property.\n",
    "* 16) **Status:** Indicates the furnishing status of the property (furnished, unfurnished, semi-furnished).\n",
    "\n",
    "**Note:-**\n",
    "\n",
    "The Data has Been Scrap by using BeautifulSoupe/ Web Scraping.\n",
    "\n",
    "This Dataset is created from https://www.makaan.com/. If you want to learn more, you can visit the Website."
   ]
  },
  {
   "cell_type": "markdown",
   "id": "c4192489",
   "metadata": {},
   "source": [
    "### 2) Importing the Standard Libraries"
   ]
  },
  {
   "cell_type": "code",
   "execution_count": 1461,
   "id": "2cd6b985",
   "metadata": {},
   "outputs": [],
   "source": [
    "import numpy as np \n",
    "import pandas as pd\n",
    "import matplotlib.pyplot as plt \n",
    "import seaborn as sns \n",
    "import scipy.stats as sts\n",
    "import warnings\n",
    "warnings.filterwarnings('ignore')"
   ]
  },
  {
   "cell_type": "markdown",
   "id": "f6a41eaa",
   "metadata": {},
   "source": [
    "### 3) Loading the Dataset"
   ]
  },
  {
   "cell_type": "code",
   "execution_count": 1462,
   "id": "6cd5fe1b",
   "metadata": {},
   "outputs": [],
   "source": [
    "df1 = pd.read_csv('Dataset/Indian_housing_Delhi_data.csv')\n",
    "df2 = pd.read_csv('Dataset/Indian_housing_Mumbai_data.csv')\n",
    "df3 = pd.read_csv('Dataset/Indian_housing_Pune_data.csv')"
   ]
  },
  {
   "cell_type": "code",
   "execution_count": 1463,
   "id": "b5a0e1be",
   "metadata": {},
   "outputs": [],
   "source": [
    "df = pd.concat([df1,df2,df3]).reset_index(drop = True)"
   ]
  },
  {
   "cell_type": "code",
   "execution_count": 1464,
   "id": "3668a108",
   "metadata": {},
   "outputs": [
    {
     "data": {
      "text/html": [
       "<div>\n",
       "<style scoped>\n",
       "    .dataframe tbody tr th:only-of-type {\n",
       "        vertical-align: middle;\n",
       "    }\n",
       "\n",
       "    .dataframe tbody tr th {\n",
       "        vertical-align: top;\n",
       "    }\n",
       "\n",
       "    .dataframe thead th {\n",
       "        text-align: right;\n",
       "    }\n",
       "</style>\n",
       "<table border=\"1\" class=\"dataframe\">\n",
       "  <thead>\n",
       "    <tr style=\"text-align: right;\">\n",
       "      <th></th>\n",
       "      <th>house_type</th>\n",
       "      <th>house_size</th>\n",
       "      <th>location</th>\n",
       "      <th>city</th>\n",
       "      <th>latitude</th>\n",
       "      <th>longitude</th>\n",
       "      <th>price</th>\n",
       "      <th>currency</th>\n",
       "      <th>numBathrooms</th>\n",
       "      <th>numBalconies</th>\n",
       "      <th>isNegotiable</th>\n",
       "      <th>priceSqFt</th>\n",
       "      <th>verificationDate</th>\n",
       "      <th>description</th>\n",
       "      <th>SecurityDeposit</th>\n",
       "      <th>Status</th>\n",
       "    </tr>\n",
       "  </thead>\n",
       "  <tbody>\n",
       "    <tr>\n",
       "      <th>0</th>\n",
       "      <td>1 RK Studio Apartment</td>\n",
       "      <td>400 sq ft</td>\n",
       "      <td>Kalkaji</td>\n",
       "      <td>Delhi</td>\n",
       "      <td>28.545561</td>\n",
       "      <td>77.254349</td>\n",
       "      <td>22000</td>\n",
       "      <td>INR</td>\n",
       "      <td>1.0</td>\n",
       "      <td>NaN</td>\n",
       "      <td>NaN</td>\n",
       "      <td>NaN</td>\n",
       "      <td>Posted a day ago</td>\n",
       "      <td>Fully furnished, loaded with amenities &amp; gadge...</td>\n",
       "      <td>No Deposit</td>\n",
       "      <td>Furnished</td>\n",
       "    </tr>\n",
       "    <tr>\n",
       "      <th>1</th>\n",
       "      <td>1 RK Studio Apartment</td>\n",
       "      <td>400 sq ft</td>\n",
       "      <td>Mansarover Garden</td>\n",
       "      <td>Delhi</td>\n",
       "      <td>28.643259</td>\n",
       "      <td>77.132828</td>\n",
       "      <td>20000</td>\n",
       "      <td>INR</td>\n",
       "      <td>1.0</td>\n",
       "      <td>NaN</td>\n",
       "      <td>NaN</td>\n",
       "      <td>NaN</td>\n",
       "      <td>Posted 9 days ago</td>\n",
       "      <td>Here is an excellent 1 BHK Independent Floor a...</td>\n",
       "      <td>No Deposit</td>\n",
       "      <td>Furnished</td>\n",
       "    </tr>\n",
       "    <tr>\n",
       "      <th>2</th>\n",
       "      <td>2 BHK Independent Floor</td>\n",
       "      <td>500 sq ft</td>\n",
       "      <td>Uttam Nagar</td>\n",
       "      <td>Delhi</td>\n",
       "      <td>28.618677</td>\n",
       "      <td>77.053352</td>\n",
       "      <td>8500</td>\n",
       "      <td>INR</td>\n",
       "      <td>1.0</td>\n",
       "      <td>NaN</td>\n",
       "      <td>NaN</td>\n",
       "      <td>NaN</td>\n",
       "      <td>Posted 12 days ago</td>\n",
       "      <td>Zero Brokerage.\\n\\n2 Room set, Govt bijali Met...</td>\n",
       "      <td>No Deposit</td>\n",
       "      <td>Semi-Furnished</td>\n",
       "    </tr>\n",
       "    <tr>\n",
       "      <th>3</th>\n",
       "      <td>3 BHK Independent House</td>\n",
       "      <td>1,020 sq ft</td>\n",
       "      <td>Model Town</td>\n",
       "      <td>Delhi</td>\n",
       "      <td>28.712898</td>\n",
       "      <td>77.180000</td>\n",
       "      <td>48000</td>\n",
       "      <td>INR</td>\n",
       "      <td>3.0</td>\n",
       "      <td>NaN</td>\n",
       "      <td>NaN</td>\n",
       "      <td>NaN</td>\n",
       "      <td>Posted a year ago</td>\n",
       "      <td>Itâs a 3 bhk independent house situated in M...</td>\n",
       "      <td>No Deposit</td>\n",
       "      <td>Furnished</td>\n",
       "    </tr>\n",
       "    <tr>\n",
       "      <th>4</th>\n",
       "      <td>2 BHK Apartment</td>\n",
       "      <td>810 sq ft</td>\n",
       "      <td>Sector 13 Rohini</td>\n",
       "      <td>Delhi</td>\n",
       "      <td>28.723539</td>\n",
       "      <td>77.131424</td>\n",
       "      <td>20000</td>\n",
       "      <td>INR</td>\n",
       "      <td>2.0</td>\n",
       "      <td>NaN</td>\n",
       "      <td>NaN</td>\n",
       "      <td>NaN</td>\n",
       "      <td>Posted a year ago</td>\n",
       "      <td>Well designed 2 bhk multistorey apartment is a...</td>\n",
       "      <td>No Deposit</td>\n",
       "      <td>Unfurnished</td>\n",
       "    </tr>\n",
       "  </tbody>\n",
       "</table>\n",
       "</div>"
      ],
      "text/plain": [
       "                 house_type   house_size           location   city   latitude  \\\n",
       "0    1 RK Studio Apartment     400 sq ft            Kalkaji  Delhi  28.545561   \n",
       "1    1 RK Studio Apartment     400 sq ft  Mansarover Garden  Delhi  28.643259   \n",
       "2  2 BHK Independent Floor     500 sq ft        Uttam Nagar  Delhi  28.618677   \n",
       "3  3 BHK Independent House   1,020 sq ft         Model Town  Delhi  28.712898   \n",
       "4          2 BHK Apartment     810 sq ft   Sector 13 Rohini  Delhi  28.723539   \n",
       "\n",
       "   longitude  price currency  numBathrooms  numBalconies isNegotiable  \\\n",
       "0  77.254349  22000      INR           1.0           NaN          NaN   \n",
       "1  77.132828  20000      INR           1.0           NaN          NaN   \n",
       "2  77.053352   8500      INR           1.0           NaN          NaN   \n",
       "3  77.180000  48000      INR           3.0           NaN          NaN   \n",
       "4  77.131424  20000      INR           2.0           NaN          NaN   \n",
       "\n",
       "   priceSqFt    verificationDate  \\\n",
       "0        NaN    Posted a day ago   \n",
       "1        NaN   Posted 9 days ago   \n",
       "2        NaN  Posted 12 days ago   \n",
       "3        NaN   Posted a year ago   \n",
       "4        NaN   Posted a year ago   \n",
       "\n",
       "                                         description SecurityDeposit  \\\n",
       "0  Fully furnished, loaded with amenities & gadge...      No Deposit   \n",
       "1  Here is an excellent 1 BHK Independent Floor a...      No Deposit   \n",
       "2  Zero Brokerage.\\n\\n2 Room set, Govt bijali Met...      No Deposit   \n",
       "3  Itâs a 3 bhk independent house situated in M...      No Deposit   \n",
       "4  Well designed 2 bhk multistorey apartment is a...      No Deposit   \n",
       "\n",
       "           Status  \n",
       "0       Furnished  \n",
       "1       Furnished  \n",
       "2  Semi-Furnished  \n",
       "3       Furnished  \n",
       "4     Unfurnished  "
      ]
     },
     "execution_count": 1464,
     "metadata": {},
     "output_type": "execute_result"
    }
   ],
   "source": [
    "df.head(5)"
   ]
  },
  {
   "cell_type": "markdown",
   "id": "54e28da2",
   "metadata": {},
   "source": [
    "#### 4) Let's analize some information about the dataset"
   ]
  },
  {
   "cell_type": "code",
   "execution_count": 1465,
   "id": "0d03f1cf",
   "metadata": {},
   "outputs": [
    {
     "data": {
      "text/plain": [
       "(13910, 16)"
      ]
     },
     "execution_count": 1465,
     "metadata": {},
     "output_type": "execute_result"
    }
   ],
   "source": [
    "df.shape"
   ]
  },
  {
   "cell_type": "markdown",
   "id": "167b67a6",
   "metadata": {},
   "source": [
    "**Observation:-** We having 13910 records avalible in our DataFrame"
   ]
  },
  {
   "cell_type": "code",
   "execution_count": 1466,
   "id": "eac9774d",
   "metadata": {},
   "outputs": [
    {
     "name": "stdout",
     "output_type": "stream",
     "text": [
      "<class 'pandas.core.frame.DataFrame'>\n",
      "RangeIndex: 13910 entries, 0 to 13909\n",
      "Data columns (total 16 columns):\n",
      " #   Column            Non-Null Count  Dtype  \n",
      "---  ------            --------------  -----  \n",
      " 0   house_type        13910 non-null  object \n",
      " 1   house_size        13910 non-null  object \n",
      " 2   location          13910 non-null  object \n",
      " 3   city              13910 non-null  object \n",
      " 4   latitude          13910 non-null  float64\n",
      " 5   longitude         13910 non-null  float64\n",
      " 6   price             13910 non-null  int64  \n",
      " 7   currency          13910 non-null  object \n",
      " 8   numBathrooms      13854 non-null  float64\n",
      " 9   numBalconies      5291 non-null   float64\n",
      " 10  isNegotiable      1276 non-null   object \n",
      " 11  priceSqFt         0 non-null      float64\n",
      " 12  verificationDate  13910 non-null  object \n",
      " 13  description       13079 non-null  object \n",
      " 14  SecurityDeposit   13910 non-null  object \n",
      " 15  Status            13910 non-null  object \n",
      "dtypes: float64(5), int64(1), object(10)\n",
      "memory usage: 1.7+ MB\n"
     ]
    }
   ],
   "source": [
    "df.info()"
   ]
  },
  {
   "cell_type": "markdown",
   "id": "82caef79",
   "metadata": {},
   "source": [
    "#### We have Seen that many of the data type is in the form of object so we'll try to convert that data into int or float so that my ml model can understand the model let go with column by columns"
   ]
  },
  {
   "cell_type": "markdown",
   "id": "521f8831-5d6e-46bc-9125-e0bcde4c106e",
   "metadata": {},
   "source": [
    "### EDA"
   ]
  },
  {
   "cell_type": "markdown",
   "id": "49d0a5b0-fc1f-4962-a54d-4fa7adfac324",
   "metadata": {},
   "source": [
    "###### Let's Analysis Column 1-by-1"
   ]
  },
  {
   "cell_type": "markdown",
   "id": "e704e992-9e49-480c-bdc4-1335924d7268",
   "metadata": {},
   "source": [
    "###### House Type"
   ]
  },
  {
   "cell_type": "code",
   "execution_count": 1467,
   "id": "62a2bc7d-b4ed-4dfb-ab71-419797f21dca",
   "metadata": {},
   "outputs": [
    {
     "data": {
      "text/plain": [
       "array(['1 RK Studio Apartment ', '2 BHK Independent Floor ',\n",
       "       '3 BHK Independent House ', '2 BHK Apartment ', '3 BHK Apartment ',\n",
       "       '3 BHK Independent Floor ', '4 BHK Independent Floor ',\n",
       "       '1 BHK Independent Floor ', '1 BHK Apartment ',\n",
       "       '8 BHK Independent Floor ', '4 BHK Apartment ',\n",
       "       '6 BHK Independent Floor ', '2 BHK Independent House ',\n",
       "       '1 BHK Independent House ', '5 BHK Independent Floor ',\n",
       "       '4 BHK Independent House ', '5 BHK Villa ',\n",
       "       '5 BHK Independent House ', '7 BHK Independent Floor ',\n",
       "       '8 BHK Independent House ', '10 BHK Independent House ',\n",
       "       '7 BHK Independent House ', '9 BHK Independent House ',\n",
       "       '8 BHK Villa ', '4 BHK Villa ', '5 BHK Apartment ',\n",
       "       '6 BHK penthouse ', '12 BHK Independent House ', '3 BHK Villa ',\n",
       "       '6 BHK Apartment ', '1 BHK Villa ', '6 BHK Villa ', '2 BHK Villa ',\n",
       "       '6 BHK Independent House '], dtype=object)"
      ]
     },
     "execution_count": 1467,
     "metadata": {},
     "output_type": "execute_result"
    }
   ],
   "source": [
    "df['house_type'].unique()"
   ]
  },
  {
   "cell_type": "code",
   "execution_count": 1468,
   "id": "ec5ef139-0bd4-4773-a4ea-8acad323c4cd",
   "metadata": {},
   "outputs": [
    {
     "data": {
      "text/plain": [
       "house_type\n",
       "2 BHK Apartment              4385\n",
       "1 BHK Apartment              2622\n",
       "3 BHK Apartment              1837\n",
       "3 BHK Independent Floor      1571\n",
       "4 BHK Independent Floor       786\n",
       "2 BHK Independent Floor       542\n",
       "1 RK Studio Apartment         434\n",
       "4 BHK Apartment               297\n",
       "4 BHK Villa                   273\n",
       "1 BHK Independent Floor       255\n",
       "5 BHK Villa                   185\n",
       "5 BHK Independent Floor       180\n",
       "5 BHK Independent House       153\n",
       "4 BHK Independent House       128\n",
       "1 BHK Independent House        69\n",
       "3 BHK Villa                    47\n",
       "3 BHK Independent House        29\n",
       "2 BHK Independent House        28\n",
       "5 BHK Apartment                27\n",
       "2 BHK Villa                    23\n",
       "6 BHK Apartment                 6\n",
       "6 BHK Independent Floor         6\n",
       "6 BHK Villa                     5\n",
       "1 BHK Villa                     5\n",
       "9 BHK Independent House         3\n",
       "6 BHK penthouse                 3\n",
       "8 BHK Independent Floor         2\n",
       "7 BHK Independent Floor         2\n",
       "10 BHK Independent House        2\n",
       "8 BHK Villa                     1\n",
       "12 BHK Independent House        1\n",
       "7 BHK Independent House         1\n",
       "8 BHK Independent House         1\n",
       "6 BHK Independent House         1\n",
       "Name: count, dtype: int64"
      ]
     },
     "execution_count": 1468,
     "metadata": {},
     "output_type": "execute_result"
    }
   ],
   "source": [
    "df['house_type'].value_counts()"
   ]
  },
  {
   "cell_type": "markdown",
   "id": "0e6aa197-276b-48c0-9198-2a247c926835",
   "metadata": {},
   "source": [
    "**Observation:-** As we can see there having a lot of data with less search quantity so we can drop that row for better model because as much house_type we have it'll create that much of feature. so for better model we need to drop that."
   ]
  },
  {
   "cell_type": "code",
   "execution_count": 1469,
   "id": "a8284d56-4582-4a34-86f4-788fa8da63ae",
   "metadata": {},
   "outputs": [
    {
     "data": {
      "text/plain": [
       "28.5"
      ]
     },
     "execution_count": 1469,
     "metadata": {},
     "output_type": "execute_result"
    }
   ],
   "source": [
    "df['house_type'].value_counts().median()"
   ]
  },
  {
   "cell_type": "code",
   "execution_count": 1470,
   "id": "8c5795fe-5c5a-4382-b1da-7bb20ff097aa",
   "metadata": {},
   "outputs": [],
   "source": [
    "df_copy= df[df['house_type'].isin(['2 BHK Apartment ','1 BHK Apartment ','3 BHK Apartment ','4 BHK Independent Floor ','2 BHK Independent Floor ',\n",
    "                       '1 RK Studio Apartment ','4 BHK Apartment ','4 BHK Villa ','1 BHK Independent Floor ','5 BHK Villa ','5 BHK Independent Floor ',\n",
    "                       '5 BHK Independent House ','4 BHK Independent House ','1 BHK Independent House ','3 BHK Villa ','3 BHK Independent House ',\n",
    "                       '2 BHK Independent House '])]"
   ]
  },
  {
   "cell_type": "markdown",
   "id": "b83b75e1-70e8-4e71-8a2d-de89869256dd",
   "metadata": {},
   "source": [
    "We have analyzed the import records for better understanding from various **house_type.** through the analysis we found that **2 BHK APPARTMENT** is \n",
    "most search house_type. to proceed our study we took the median values of the search count of most search house_type used that value as a threshold to filter and consider that specific house type for further analysis."
   ]
  },
  {
   "cell_type": "code",
   "execution_count": 1471,
   "id": "fa7a9b6e-a20b-48d7-b0bd-f0602c880fde",
   "metadata": {},
   "outputs": [],
   "source": [
    "df_copy.house_type = df_copy.house_type.str.strip().str.title()"
   ]
  },
  {
   "cell_type": "markdown",
   "id": "ce2a0837-a3ba-44b1-a08e-2f534cb5faba",
   "metadata": {},
   "source": [
    "##### House Size"
   ]
  },
  {
   "cell_type": "code",
   "execution_count": 1472,
   "id": "5ad8e86e-6c03-4176-a8c6-47caec512907",
   "metadata": {},
   "outputs": [],
   "source": [
    "df_copy.house_size = df_copy.house_size.str.replace(\",\",\"\").str.split(\" \").str[0].astype(int)"
   ]
  },
  {
   "cell_type": "markdown",
   "id": "2fc08be4-92b2-4753-bae1-a00cd425436f",
   "metadata": {},
   "source": [
    "The house Size is about to how number sqft house size is. it was in the form of string and containing **\",\"** so we cleaned the house_size and \n",
    "we convernt it into integer"
   ]
  },
  {
   "cell_type": "markdown",
   "id": "277c2f0d-03bf-4b6a-9eaf-0c65979f157a",
   "metadata": {},
   "source": [
    "##### Location"
   ]
  },
  {
   "cell_type": "code",
   "execution_count": 1473,
   "id": "7371adaf-72d4-4d49-8654-2213fe44c1b1",
   "metadata": {},
   "outputs": [
    {
     "data": {
      "text/plain": [
       "663"
      ]
     },
     "execution_count": 1473,
     "metadata": {},
     "output_type": "execute_result"
    }
   ],
   "source": [
    "len(df_copy.location.value_counts())"
   ]
  },
  {
   "cell_type": "code",
   "execution_count": 1474,
   "id": "f5c209b8-d25e-463f-9de7-3d266fb8f9b0",
   "metadata": {},
   "outputs": [],
   "source": [
    "location_dict = df_copy.location.value_counts().to_dict()"
   ]
  },
  {
   "cell_type": "code",
   "execution_count": 1475,
   "id": "33da6737-1a22-4578-a439-ee1493978d58",
   "metadata": {
    "scrolled": true
   },
   "outputs": [
    {
     "data": {
      "text/plain": [
       "{'Wagholi': 743,\n",
       " 'Andheri West': 362,\n",
       " 'Thane West': 287,\n",
       " 'Andheri East': 284,\n",
       " 'Kharghar': 255,\n",
       " 'Dhanori': 197,\n",
       " 'Ghansoli': 196,\n",
       " 'Wakad': 195,\n",
       " 'Powai': 172,\n",
       " 'Chembur': 157,\n",
       " 'Hinjewadi': 157,\n",
       " 'Borivali East': 153,\n",
       " 'Santacruz East': 149,\n",
       " 'Lohegaon': 142,\n",
       " 'Kharadi': 141,\n",
       " 'Chattarpur': 136,\n",
       " 'Baner': 117,\n",
       " 'Hadapsar': 116,\n",
       " 'Kalyan West': 115,\n",
       " 'Goregaon East': 111,\n",
       " 'Mira Road East': 110,\n",
       " 'Dombivali': 110,\n",
       " 'Goregaon West': 108,\n",
       " 'Mulund West': 107,\n",
       " 'Kondhwa': 102,\n",
       " 'Malad West': 101,\n",
       " 'Aundh': 98,\n",
       " 'Bhandup West': 98,\n",
       " 'Bandra West': 98,\n",
       " 'Pimple Saudagar': 94,\n",
       " 'Kanjurmarg': 92,\n",
       " 'Dhayari': 92,\n",
       " 'Undri': 91,\n",
       " 'Vasant Vihar': 90,\n",
       " 'Tathawade': 87,\n",
       " 'Panchsheel Park': 85,\n",
       " 'Vishrantwadi': 83,\n",
       " 'Vasant Kunj': 82,\n",
       " 'Defence Colony': 79,\n",
       " 'Ulwe': 74,\n",
       " 'Sainik Farm': 74,\n",
       " 'NIBM Annex Mohammadwadi': 74,\n",
       " 'Jor bagh': 74,\n",
       " 'Saket': 71,\n",
       " 'Wadgaon Sheri': 71,\n",
       " 'Greater kailash 1': 69,\n",
       " 'Hauz Khas': 68,\n",
       " 'Janakpuri': 66,\n",
       " 'Uttam Nagar': 66,\n",
       " 'Virar': 65,\n",
       " 'Sheikh Sarai': 62,\n",
       " 'Viman Nagar': 61,\n",
       " 'Dombivali East': 60,\n",
       " 'Sunder Nagar': 60,\n",
       " 'Greater Kailash': 59,\n",
       " 'Golf Links': 58,\n",
       " 'Karampura': 58,\n",
       " 'Green Park': 58,\n",
       " 'Kandivali West': 57,\n",
       " 'Greater Kailash II': 55,\n",
       " 'Dwarka Mor': 55,\n",
       " 'Kandivali East': 55,\n",
       " 'Kothrud': 54,\n",
       " 'Balewadi': 53,\n",
       " 'Paschim Vihar': 53,\n",
       " 'Tingre Nagar': 52,\n",
       " 'Safdarjung Enclave': 51,\n",
       " 'Ville Parle East': 51,\n",
       " 'Sector 19 Dwarka': 51,\n",
       " 'Airoli': 51,\n",
       " 'Shanti Niketan': 51,\n",
       " 'Gulmohar park': 49,\n",
       " 'Wanowrie': 49,\n",
       " 'Niti Bagh': 48,\n",
       " 'Ghitorni': 47,\n",
       " 'Subhash Nagar': 46,\n",
       " 'Malviya Nagar': 46,\n",
       " 'New Friends Colony': 46,\n",
       " 'Worli': 46,\n",
       " 'Jogeshwari West': 45,\n",
       " 'Anand Niketan': 45,\n",
       " 'Borivali West': 44,\n",
       " 'Bavdhan': 43,\n",
       " 'Ravet': 43,\n",
       " 'Malad East': 43,\n",
       " 'Kalamboli': 43,\n",
       " 'Panchsheel Enclave': 42,\n",
       " 'Dabri': 41,\n",
       " 'Juhu': 40,\n",
       " 'Geetanjali Enclave': 39,\n",
       " 'Koper Khairane': 38,\n",
       " 'Rahatani': 38,\n",
       " 'Malabar Hill': 37,\n",
       " 'Panvel': 35,\n",
       " 'Yerawada': 35,\n",
       " 'Chinchwad': 34,\n",
       " 'Lower Parel': 34,\n",
       " 'Seawoods': 34,\n",
       " 'Chikhali': 33,\n",
       " 'Green Park Extension': 33,\n",
       " 'Mundhwa': 33,\n",
       " 'Sector 11 Dwarka': 32,\n",
       " 'Sector 12 Dwarka': 32,\n",
       " 'Navjeevan Vihar': 32,\n",
       " 'Patel Nagar': 32,\n",
       " 'Rajouri Garden': 32,\n",
       " 'Tardeo': 31,\n",
       " 'Sector 5 Dwarka': 30,\n",
       " 'Nigdi': 30,\n",
       " 'Santacruz West': 30,\n",
       " 'Sarvpriya Vihar': 29,\n",
       " 'Khar West': 29,\n",
       " 'Karve Nagar': 29,\n",
       " 'Mulund East': 29,\n",
       " 'Friends Colony': 28,\n",
       " 'Dadar East': 27,\n",
       " 'Pashan': 27,\n",
       " 'Maharani Bagh': 27,\n",
       " 'Kurla': 27,\n",
       " 'Sarvodaya Enclave': 27,\n",
       " 'Tagore Garden Extension': 27,\n",
       " 'Prabhadevi': 26,\n",
       " 'East of Kailash': 26,\n",
       " 'Sector 6 Dwarka': 26,\n",
       " 'IP Extension': 26,\n",
       " 'Sector 22 Dwarka': 25,\n",
       " 'Vasai': 25,\n",
       " 'Naigaon East': 24,\n",
       " 'NIBM': 24,\n",
       " 'Kalyani Nagar': 24,\n",
       " 'Vadgaon Budruk': 24,\n",
       " 'Nerul': 24,\n",
       " 'West End': 24,\n",
       " 'Chandan Nagar': 24,\n",
       " 'Vikhroli': 23,\n",
       " 'Colaba': 23,\n",
       " 'Kalkaji': 21,\n",
       " 'Dahisar': 21,\n",
       " 'Pimple Nilakh': 20,\n",
       " 'Sector-18 Dwarka': 20,\n",
       " 'Kamothe': 20,\n",
       " 'Titwala': 19,\n",
       " 'Naraina': 19,\n",
       " 'Lajpat Nagar': 19,\n",
       " 'Pitampura': 19,\n",
       " 'Chakan': 18,\n",
       " 'Sector 2 Dwarka': 18,\n",
       " 'Wadala': 18,\n",
       " 'Jogeshwari East': 18,\n",
       " 'Pimple Gurav': 18,\n",
       " 'Sanpada': 18,\n",
       " 'Ramesh Nagar': 18,\n",
       " 'Dadar West': 17,\n",
       " 'Bhayandar East': 17,\n",
       " 'Badlapur East': 17,\n",
       " 'Parel': 17,\n",
       " 'Khar': 17,\n",
       " 'Sector 4 Dwarka': 16,\n",
       " 'Prithviraj Road': 16,\n",
       " 'Mahalunge': 16,\n",
       " 'Bibwewadi': 16,\n",
       " 'Sector 7 Dwarka': 16,\n",
       " 'Rajinder Nagar': 15,\n",
       " 'Pradhikaran Nigdi': 15,\n",
       " 'Charholi Budruk': 15,\n",
       " 'Cuffe Parade': 15,\n",
       " 'Shalimar Bagh': 14,\n",
       " 'Tuglak Road': 14,\n",
       " 'Mahape': 14,\n",
       " 'Girgaon': 14,\n",
       " 'Uday Park': 14,\n",
       " 'Bandra East': 14,\n",
       " 'Cumballa Hill': 14,\n",
       " 'Ghatkopar East': 13,\n",
       " 'Bhandup East': 13,\n",
       " 'Ghatkopar West': 13,\n",
       " 'Malcha Marg': 13,\n",
       " 'Kalwa': 13,\n",
       " 'Nala Sopara': 13,\n",
       " 'Mahalaxmi': 13,\n",
       " 'Pimpri': 13,\n",
       " 'Sus': 13,\n",
       " 'MATUNGA WEST': 12,\n",
       " 'Moshi': 12,\n",
       " 'Karanjade': 12,\n",
       " 'Belapur': 12,\n",
       " 'Katraj': 12,\n",
       " 'Dombivli (West)': 12,\n",
       " 'Deonar': 12,\n",
       " 'Mansa Ram Park': 12,\n",
       " 'Amrita Shergill Marg': 12,\n",
       " 'South Extension 2': 12,\n",
       " 'Sector 21 Ghansoli': 11,\n",
       " 'Patparganj': 11,\n",
       " 'Sopan Baug': 11,\n",
       " 'Nalasopara West': 11,\n",
       " 'Aurungzeb Road': 11,\n",
       " 'Virar West': 11,\n",
       " 'Alandi': 11,\n",
       " 'Juhu Scheme': 11,\n",
       " 'Shil Phata': 10,\n",
       " 'Thergaon': 10,\n",
       " 'Kalyan East': 10,\n",
       " 'Ambegaon Budruk': 10,\n",
       " 'Shivane': 10,\n",
       " 'Bindapur': 10,\n",
       " 'Marine Lines': 10,\n",
       " 'Sangamvadi': 10,\n",
       " 'Koregaon Park': 10,\n",
       " 'Tilak Marg': 10,\n",
       " 'Gahunje': 10,\n",
       " 'Inderpuri': 9,\n",
       " 'Deccan Gymkhana': 9,\n",
       " 'Uttam Nagar west': 9,\n",
       " 'Sector 3 Dwarka': 9,\n",
       " 'Munirka': 9,\n",
       " 'Govindpuri': 9,\n",
       " 'Sector 13 Dwarka': 9,\n",
       " 'Sector 9 Rohini': 9,\n",
       " 'Manjari': 8,\n",
       " 'Sagar Pur': 8,\n",
       " 'Sector 10 Dwarka': 8,\n",
       " 'mayur vihar phase 1': 8,\n",
       " 'Sector 23 Dwarka': 8,\n",
       " 'Govindpuri Extension': 8,\n",
       " 'Mayur Vihar II': 8,\n",
       " 'Model Town': 8,\n",
       " 'vikaspuri': 8,\n",
       " 'Safdarjung Development Area': 8,\n",
       " 'Ambernath West': 8,\n",
       " 'PANCHSHEEL VIHAR': 8,\n",
       " 'vile parle west': 8,\n",
       " 'Lodhi Road': 8,\n",
       " 'Mahim': 7,\n",
       " 'Haiderpur': 7,\n",
       " 'Rasayani': 7,\n",
       " 'Warje': 7,\n",
       " 'Khirki Extension': 7,\n",
       " 'Handewadi': 7,\n",
       " 'Chittaranjan Park': 7,\n",
       " 'Vashi': 7,\n",
       " 'Sector 14 Dwarka': 6,\n",
       " 'Poorvi Pitampura': 6,\n",
       " 'Ambernath East': 6,\n",
       " 'Shastri Nagar': 6,\n",
       " 'Sector 9 Dwarka': 6,\n",
       " 'Old Sangvi': 6,\n",
       " 'Babar Road': 6,\n",
       " 'Lodhi Gardens': 6,\n",
       " 'Rajpur Khurd Extension': 6,\n",
       " 'Ghorpadi': 6,\n",
       " 'Kurla West': 5,\n",
       " 'Yari Road': 5,\n",
       " 'Manjari Budruk': 5,\n",
       " 'Napeansea Road': 5,\n",
       " 'Manglapuri': 5,\n",
       " 'Balkum': 5,\n",
       " 'NIBM Road': 5,\n",
       " 'Mansarover Garden': 5,\n",
       " 'Punjabi Bagh': 5,\n",
       " 'Jangpura Extension': 5,\n",
       " 'New Ashok Nagar': 5,\n",
       " 'Fursungi': 5,\n",
       " 'laxmi nagar': 5,\n",
       " 'Kanjurmarg East': 5,\n",
       " 'Mohammed wadi': 5,\n",
       " 'Sewri': 5,\n",
       " 'Ashok Nagar': 5,\n",
       " 'Sector-B Vasant Kunj': 5,\n",
       " 'i p extension patparganj': 5,\n",
       " 'New Kalyani Nagar': 5,\n",
       " 'Lodhi Estate': 5,\n",
       " 'Lajpat Nagar IV': 5,\n",
       " 'Jamia Nagar': 5,\n",
       " 'Connaught Place': 5,\n",
       " 'Hinjawadi Village': 5,\n",
       " 'Gautam Nagar': 5,\n",
       " 'Mahavir Enclave': 5,\n",
       " 'Sector-7 Rohini': 4,\n",
       " 'Karol Bagh': 4,\n",
       " 'Rabale': 4,\n",
       " 'Palam': 4,\n",
       " 'Bandra Kurla Complex': 4,\n",
       " 'Bhayandar West': 4,\n",
       " 'Thakurli': 4,\n",
       " 'Sector 11 Rohini': 4,\n",
       " 'Wanwadi': 4,\n",
       " 'Anand Vihar': 4,\n",
       " 'Kondhwa Budruk': 4,\n",
       " 'Akurdi': 4,\n",
       " 'BT Kawde': 4,\n",
       " 'Keshav Nagar': 4,\n",
       " 'Sector 13 Rohini': 4,\n",
       " 'Lulla Nagar': 4,\n",
       " 'Erandwane': 4,\n",
       " 'Kasturba Gandhi Marg': 4,\n",
       " 'Bopodi': 4,\n",
       " 'Mahipalpur': 4,\n",
       " 'Ghansoli Gaon': 4,\n",
       " 'Sector 8 Dwarka': 4,\n",
       " 'Wadgaon Budruk': 4,\n",
       " 'Sadashiv Peth': 4,\n",
       " 'Sector-15 Ghansoli': 4,\n",
       " 'Sector 5 Ghansoli': 4,\n",
       " 'Palava': 3,\n",
       " 'Uttari Pitampura': 3,\n",
       " 'Dighi': 3,\n",
       " 'Kurla East': 3,\n",
       " 'Koparkhairane Station Road': 3,\n",
       " 'Taloja': 3,\n",
       " 'Churchgate': 3,\n",
       " 'Jasola': 3,\n",
       " 'Versova': 3,\n",
       " 'juhu tara': 3,\n",
       " 'DLF Phase 5': 3,\n",
       " 'Vasai West': 3,\n",
       " 'DN Nagar': 3,\n",
       " 'Pali Hill': 3,\n",
       " 'Shindenagar': 3,\n",
       " 'Kasar vadavali': 3,\n",
       " 'Baljeet Nagar': 3,\n",
       " 'Marunji': 3,\n",
       " 'Punawale': 3,\n",
       " 'Yamuna Nagar': 3,\n",
       " 'Shivalik': 3,\n",
       " 'Vijay Nagar': 3,\n",
       " 'St Andrew Rd': 3,\n",
       " 'Bhairav Nagar': 3,\n",
       " 'Bhosari': 3,\n",
       " 'Lajpat Nagar III': 3,\n",
       " 'Diva Gaon': 3,\n",
       " 'Shivaji Nagar': 3,\n",
       " 'Vanaz corner': 3,\n",
       " 'Dahisar West': 3,\n",
       " 'Burari': 3,\n",
       " 'Shaniwar Peth': 3,\n",
       " 'Swargate': 3,\n",
       " 'Amritpuri': 3,\n",
       " 'NIBM Annexe': 3,\n",
       " 'Bhiwandi': 3,\n",
       " 'Kirti Nagar': 3,\n",
       " 'Shahpur Jat Village': 3,\n",
       " 'Senapati Bapat Road': 3,\n",
       " 'Gultekdi': 3,\n",
       " 'Mayur Vihar': 3,\n",
       " 'Sector 1 Dwarka': 3,\n",
       " 'Hiranandani Estates': 3,\n",
       " 'SULTANPUR': 3,\n",
       " 'Talegaon Dabhade': 3,\n",
       " 'Neb Sarai': 3,\n",
       " 'Sion': 3,\n",
       " 'New Rajinder Nagar': 3,\n",
       " 'Rohini Sector 9': 3,\n",
       " 'Razapur Khurd': 3,\n",
       " 'Matunga': 3,\n",
       " 'Fatima Nagar': 3,\n",
       " 'Shivtirth Nagar': 2,\n",
       " 'Lokhandwala': 2,\n",
       " 'Gagan Vihar': 2,\n",
       " 'Narayan Peth': 2,\n",
       " 'Alaknanda': 2,\n",
       " 'Sitapuri': 2,\n",
       " 'Baner Road': 2,\n",
       " 'Dashrath Puri': 2,\n",
       " 'Carter Road': 2,\n",
       " 'Kalyan Vihar': 2,\n",
       " 'Kothrud Depot Road': 2,\n",
       " 'Shirur': 2,\n",
       " 'Deccan': 2,\n",
       " 'Saphale': 2,\n",
       " 'kesnand': 2,\n",
       " 'Nalasopara East': 2,\n",
       " 'Gulmohar Road': 2,\n",
       " 'Vikas Nagar': 2,\n",
       " 'Lonikand': 2,\n",
       " 'Law College Road': 2,\n",
       " 'Suyog Nagar': 2,\n",
       " 'Sector 12 Kharghar': 2,\n",
       " 'Kalas': 2,\n",
       " 'Warje Malwadi': 2,\n",
       " 'Sewak Park': 2,\n",
       " 'Dhayari Phata': 2,\n",
       " 'Dattavadi': 2,\n",
       " 'Kargil Vijay Nagar': 2,\n",
       " 'Model Colony': 2,\n",
       " 'Sector 16 Dwarka': 2,\n",
       " 'Sanaswadi': 2,\n",
       " 'Narhe': 2,\n",
       " 'Pisoli': 2,\n",
       " 'Syndicate': 2,\n",
       " 'Parvati Darshan': 2,\n",
       " 'Badlapur West': 2,\n",
       " 'Nawada': 2,\n",
       " 'Dharamveer Nagar': 2,\n",
       " 'Tilak Nagar': 2,\n",
       " 'Govandi': 2,\n",
       " 'Dr Mukherji Nagar': 2,\n",
       " 'masoodpur': 2,\n",
       " 'Agripada': 2,\n",
       " 'Gamdevi': 2,\n",
       " 'Byculla': 2,\n",
       " 'Vevoor': 2,\n",
       " 'dwarka sector 17': 2,\n",
       " 'Freedom Fighters Enclave': 2,\n",
       " 'Ville Parle West': 2,\n",
       " 'Vishnu Garden': 2,\n",
       " 'Siddharth nagar': 2,\n",
       " 'Moti Nagar': 2,\n",
       " 'Marol andheri east': 2,\n",
       " 'Ladosarai': 2,\n",
       " 'Dapodi': 2,\n",
       " 'Ambegaon Pathar': 2,\n",
       " 'Palghar': 2,\n",
       " 'Prakash Mohalla Amritpuri': 2,\n",
       " 'New Sangavi': 2,\n",
       " 'Rajpur': 2,\n",
       " 'Sarita Vihar': 2,\n",
       " 'Sector 14 Rohini': 2,\n",
       " 'Ajmeri Gate': 2,\n",
       " 'Juhu Tara Rd': 2,\n",
       " 'Dakshini Pitampura': 2,\n",
       " 'Khardi': 2,\n",
       " 'Block DP Poorvi Pitampura': 2,\n",
       " 'Block AP Poorvi Pitampura': 2,\n",
       " 'Virar East': 2,\n",
       " 'Lajpat Nagar II': 2,\n",
       " 'Pashan Sus Road': 2,\n",
       " 'Sector6 Kopar Khairane': 2,\n",
       " 'Amrut Nagar': 2,\n",
       " 'Vishal nagar square new dp road': 1,\n",
       " 'Borhade Wadi': 1,\n",
       " 'Jawalkar Nagar': 1,\n",
       " 'Shewalewadi': 1,\n",
       " 'Vishal Nagar': 1,\n",
       " 'Maharashtra Housing Board': 1,\n",
       " 'Vishnu Dev Nagar': 1,\n",
       " ' Kharadi': 1,\n",
       " 'Kasarwadi': 1,\n",
       " 'Hadapsar Gaon': 1,\n",
       " 'Shikshak nagar': 1,\n",
       " 'Bhusari colony right': 1,\n",
       " 'Taljai Temple Road': 1,\n",
       " 'Dighi Gaonthan': 1,\n",
       " 'Saswad': 1,\n",
       " 'Purnanagar': 1,\n",
       " 'Dhankawadi': 1,\n",
       " 'Vishnupuram Colony': 1,\n",
       " 'Kasba Peth': 1,\n",
       " 'Talegaon': 1,\n",
       " 'charholi Khurd': 1,\n",
       " 'Tukaram Nagar': 1,\n",
       " 'Tulaja Bhawani Nagar': 1,\n",
       " 'B T Kawde Road': 1,\n",
       " 'Talwade': 1,\n",
       " 'Gokhalenagar': 1,\n",
       " 'Shikrapur': 1,\n",
       " 'Chinchwade Nagar': 1,\n",
       " 'Sector No 28': 1,\n",
       " 'SURESH NAGAR': 1,\n",
       " 'Sai Nagar': 1,\n",
       " 'Kiwale': 1,\n",
       " 'Renuka Nagar': 1,\n",
       " 'Agalambe': 1,\n",
       " 'Kalewadi Main': 1,\n",
       " 'Sant tukaram Nagar': 1,\n",
       " 'Kolwadi': 1,\n",
       " 'Walhekarwadi Chinchwad': 1,\n",
       " 'Indrayani Nagar Sector 2': 1,\n",
       " 'Ganj Peth': 1,\n",
       " 'Aundh Gaon': 1,\n",
       " 'Rambaug Colony': 1,\n",
       " 'Bibwewadi Kondhwa Road': 1,\n",
       " 'Teen Hatti Chowk Road': 1,\n",
       " 'Mamurdi': 1,\n",
       " 'Mohan Nagar': 1,\n",
       " 'Bhelkenagar': 1,\n",
       " 'Karve Road Erandwane': 1,\n",
       " 'Bhugaon': 1,\n",
       " 'Baramati': 1,\n",
       " 'DLF Farms': 1,\n",
       " 'Maan': 1,\n",
       " 'Nigdi Sector 26': 1,\n",
       " 'Bhukum': 1,\n",
       " 'Sakal Nagar': 1,\n",
       " 'Landewadi': 1,\n",
       " 'khese park': 1,\n",
       " 'Someshwarwadi': 1,\n",
       " 'hingne Khurd': 1,\n",
       " 'Baner Pashan Link Road': 1,\n",
       " 'Sector 25 Pradhikaran': 1,\n",
       " 'Indryani nagar': 1,\n",
       " 'Chimbali': 1,\n",
       " 'Old Kharadi Mundwa Road': 1,\n",
       " 'Bopkhel': 1,\n",
       " 'Kaspate Wasti': 1,\n",
       " 'Ubale Nagar': 1,\n",
       " 'RMC Garden, Wagholi': 1,\n",
       " 'Prabhat Road': 1,\n",
       " 'Hatti Chowk': 1,\n",
       " 'Sanewadi': 1,\n",
       " 'Satara road': 1,\n",
       " 'Bharati Vidyapeeth Campus': 1,\n",
       " 'Dhanakwadi': 1,\n",
       " 'Dhankawadi Road': 1,\n",
       " 'Padmavati': 1,\n",
       " 'Mukund Nagar': 1,\n",
       " 'Sahakar Nagar': 1,\n",
       " 'Bakhori': 1,\n",
       " 'Salunke Vihar': 1,\n",
       " 'ITI road': 1,\n",
       " 'Parihar Chowk': 1,\n",
       " 'Somnath Nagar': 1,\n",
       " 'Porwal Road': 1,\n",
       " 'Balewadi High Street': 1,\n",
       " 'Siddartha Nagar': 1,\n",
       " 'New Modikhana': 1,\n",
       " 'Pratik Nagar Mohanwadi': 1,\n",
       " 'New DP Road': 1,\n",
       " 'Somatane Phata': 1,\n",
       " 'Veerbhadra Nagar': 1,\n",
       " 'Kalewadi': 1,\n",
       " 'Yewalewadi': 1,\n",
       " 'Prakash Mohalla': 1,\n",
       " 'karanjade panvel': 1,\n",
       " 'Khandve Nagar': 1,\n",
       " 'dwarka sector 12': 1,\n",
       " 'Sector 6 Rohini': 1,\n",
       " 'Sector 17 Dwarka': 1,\n",
       " 'B 5 Block': 1,\n",
       " 'New Rajendra Nagar': 1,\n",
       " 'Mayur Vihar 2 Phase': 1,\n",
       " 'Dwarka 11 Sector': 1,\n",
       " 'Kishan Ganj': 1,\n",
       " 'Vasant Kunj Enclave': 1,\n",
       " 'Kailash Colony': 1,\n",
       " 'dda flat': 1,\n",
       " 'West Patel Nagar Road': 1,\n",
       " 'Vipin Garden': 1,\n",
       " 'Santnagar': 1,\n",
       " 'Mayur Vihar 1 Extension': 1,\n",
       " 'Mayur Vihar Phase II': 1,\n",
       " 'Tihar Village': 1,\n",
       " 'Naraina Vihar': 1,\n",
       " 'New Moti Nagar': 1,\n",
       " 'Guru Angad Nagar': 1,\n",
       " 'Sector 11': 1,\n",
       " 'Sundar Nagar': 1,\n",
       " 'Shahdara': 1,\n",
       " 'Rajpur Khurd Village': 1,\n",
       " 'Preet Vihar': 1,\n",
       " 'Masjid Moth Village': 1,\n",
       " 'Gujranwala Town': 1,\n",
       " 'Khushi Ram Park Delhi': 1,\n",
       " 'Sector 8': 1,\n",
       " 'Matiala': 1,\n",
       " 'Vasai east': 1,\n",
       " 'Mehrauli': 1,\n",
       " 'Khanpur': 1,\n",
       " 'Chattarpur Enclave': 1,\n",
       " 'Soami Nagar': 1,\n",
       " 'Pitampura Vaishali': 1,\n",
       " 'Tri Nagar': 1,\n",
       " 'Hari Nagar': 1,\n",
       " 'Block A3': 1,\n",
       " 'Rohini sector 16': 1,\n",
       " 'Sector 28 Rohini': 1,\n",
       " 'Block WP Poorvi Pitampura': 1,\n",
       " 'Fateh Nagar': 1,\n",
       " 'Sector 34 Rohini': 1,\n",
       " 'Abul Fazal Enclave Jamia Nagar': 1,\n",
       " 'Westend DLF Chattarpur Farms': 1,\n",
       " 'Hauz Khas Enclave': 1,\n",
       " 'Prashant Vihar Sector 14': 1,\n",
       " 'SectorB Vasant Kunj': 1,\n",
       " 'Vasant Kunj Sector A': 1,\n",
       " 'Yojna Vihar': 1,\n",
       " 'Ashok Vihar': 1,\n",
       " 'Aya Nagar': 1,\n",
       " 'Khirki Extension Panchsheel Vihar': 1,\n",
       " 'C R Park': 1,\n",
       " 'Chhattarpur Enclave Phase1': 1,\n",
       " 'Bawana': 1,\n",
       " 'Sector 3 Rohini': 1,\n",
       " 'Mandawali': 1,\n",
       " 'Vinod Nagar East': 1,\n",
       " 'Shakurpur Colony': 1,\n",
       " 'Nangloi': 1,\n",
       " 'Nehru Place': 1,\n",
       " 'Lajpat Nagar Vinoba Puri': 1,\n",
       " 'Block E Lajpat Nagar I': 1,\n",
       " 'Krishna Nagar': 1,\n",
       " 'Nangli Sakrawati': 1,\n",
       " 'Jacob Circle': 1,\n",
       " 'Boisar': 1,\n",
       " 'Erandavana': 1,\n",
       " 'Kapurbawadi': 1,\n",
       " 'Geeta Colony': 1,\n",
       " 'Kaushambi': 1,\n",
       " 'Dilshad Garden': 1,\n",
       " 'Anand Nagar': 1,\n",
       " 'Saki Naka': 1,\n",
       " 'Vakola': 1,\n",
       " 'Dharavi': 1,\n",
       " 'Hendre Pada': 1,\n",
       " 'vakola santacuz e': 1,\n",
       " 'Dahisar East': 1,\n",
       " 'Sector5 Kopar Khairane': 1,\n",
       " 'Chhatarpur Extension': 1,\n",
       " 'Majiwada thane': 1,\n",
       " 'Sector-19 Koper Khairane': 1,\n",
       " 'Raja garden': 1,\n",
       " 'Kalu Sarai': 1,\n",
       " 'Zone L Dwarka': 1,\n",
       " 'Anand Lok': 1,\n",
       " 'Hingne Budrukh': 1,\n",
       " 'Loni Kalbhor': 1,\n",
       " 'Sukhsagar Nagar': 1,\n",
       " 'Pimpri Chinchwad': 1,\n",
       " 'Sector 23B Dwarka': 1,\n",
       " 'Ganga Dham': 1,\n",
       " 'Lajpat Nagar I': 1,\n",
       " 'Badarpur': 1,\n",
       " 'Khadki': 1,\n",
       " 'Patil Nager': 1,\n",
       " 'Dhaygude Wada': 1,\n",
       " 'Sunarwadi': 1,\n",
       " 'Magarpatta': 1,\n",
       " 'Peddar Road': 1,\n",
       " 'Piramal Nagar Housing Society Road': 1,\n",
       " 'Central Ridge Reserve Forest': 1,\n",
       " 'Koproli': 1,\n",
       " 'Mahim West': 1,\n",
       " 'Parel Village': 1,\n",
       " 'Kamla Nagar': 1,\n",
       " 'Breach Candy': 1,\n",
       " 'Borivali (West)': 1,\n",
       " 'CBD Belapur East': 1,\n",
       " 'Diva': 1,\n",
       " 'Ghodbunder Road': 1,\n",
       " 'Sector 21 Kamothe': 1,\n",
       " 'Antarli': 1,\n",
       " 'Sat Bari': 1,\n",
       " 'Garhi': 1,\n",
       " 'matunga east': 1,\n",
       " 'Santosh Nagar': 1,\n",
       " 'colaba post office': 1,\n",
       " 'Aarya Chanakya Nagar': 1,\n",
       " 'Akurli Road': 1,\n",
       " 'Akurli Road Number 1': 1,\n",
       " 'Walkeshwar': 1,\n",
       " 'Sector-16 Koparkhairane': 1,\n",
       " 'Marine Drive': 1,\n",
       " 'Sakinaka Andheri east': 1,\n",
       " 'nallasopara W': 1,\n",
       " 'Seven Bunglow': 1,\n",
       " 'Babhai Naka': 1,\n",
       " 'Babhai': 1,\n",
       " 'Kastur Park': 1,\n",
       " 'yogi nagar': 1,\n",
       " 'Jayraj Nagar near Yogi Nagar': 1,\n",
       " 'Devidas Cross Lane': 1,\n",
       " 'Devidas Rd': 1,\n",
       " 'Pan Card Club Road': 1}"
      ]
     },
     "execution_count": 1475,
     "metadata": {},
     "output_type": "execute_result"
    }
   ],
   "source": [
    "location_dict"
   ]
  },
  {
   "cell_type": "code",
   "execution_count": 1476,
   "id": "72178657-a5b8-464a-aa56-e02dff994e43",
   "metadata": {},
   "outputs": [],
   "source": [
    "import json\n",
    "def location_map(location, location_dict):\n",
    "    return location_dict.get(location, 1)   \n",
    "f = open(\"Feature Scaling File/location_dict.json\",\"w\")\n",
    "json.dump(location_dict,f)\n",
    "f.close()"
   ]
  },
  {
   "cell_type": "code",
   "execution_count": 1477,
   "id": "cb525322-f84b-45b9-9a0b-7503975f1d99",
   "metadata": {},
   "outputs": [
    {
     "name": "stdout",
     "output_type": "stream",
     "text": [
      "92\n"
     ]
    }
   ],
   "source": [
    "print(location_map(\"Kanjurmarg\", location_dict))"
   ]
  },
  {
   "cell_type": "code",
   "execution_count": 1478,
   "id": "7fa8707a-aee8-492b-b75f-f58f15f3476e",
   "metadata": {},
   "outputs": [],
   "source": [
    "df_copy['location_map'] = df_copy.location.map(location_dict)"
   ]
  },
  {
   "cell_type": "markdown",
   "id": "6afd4b48-1141-4c40-8ce6-0d5d9ae09870",
   "metadata": {},
   "source": [
    "We have analysized the location columns properly and come to a conclusion that as these location category is **663** which is to large \n",
    "so if we'll apply one techinque which known as **Target Guided Encoding Technique** where we have also created a function which will **location_map** \n",
    "firstly it will found if new data location avalible in the database then it'll return that else it'll return 1 we have maped that **technique** in our dataframe"
   ]
  },
  {
   "cell_type": "markdown",
   "id": "c650de56-de8f-4912-89c9-e853bcd2c9fd",
   "metadata": {},
   "source": [
    "##### City"
   ]
  },
  {
   "cell_type": "code",
   "execution_count": 1479,
   "id": "fe4aa262-d367-4284-8b27-ba64c669509f",
   "metadata": {},
   "outputs": [
    {
     "data": {
      "text/plain": [
       "city\n",
       "Mumbai    4957\n",
       "Pune      3878\n",
       "Delhi     3407\n",
       "Hisar        8\n",
       "Name: count, dtype: int64"
      ]
     },
     "execution_count": 1479,
     "metadata": {},
     "output_type": "execute_result"
    }
   ],
   "source": [
    "df_copy.city.value_counts()"
   ]
  },
  {
   "cell_type": "code",
   "execution_count": 1480,
   "id": "708295f2-8982-4079-aed0-93c09ca7fd07",
   "metadata": {},
   "outputs": [],
   "source": [
    "delhi_location = df_copy.location[df_copy.city=='Delhi'].unique()\n",
    "mumbai_location = df_copy.location[df_copy.city=='Mumbai'].unique()\n",
    "pune_location = df_copy.location[df_copy.city=='Pune'].unique()"
   ]
  },
  {
   "cell_type": "markdown",
   "id": "b06cfb1a-db48-47de-88bf-a516bc23c1a0",
   "metadata": {},
   "source": [
    "There Having only 3 main city we will be applying OneHotEncoding For that we are dropping the **Hisar** city records because that city not containing \n",
    "that much amount data. also we had store  the location_name accrocs all the city which will help us in furthur when we'll be deploying the our model \n",
    "now we can drop the location columns as well beacause we already mapped the location with count of it."
   ]
  },
  {
   "cell_type": "code",
   "execution_count": 1481,
   "id": "03d0defa-b385-46f2-9e4e-facf0acfc301",
   "metadata": {},
   "outputs": [],
   "source": [
    "df_copy = df_copy.drop(df_copy[df_copy.city=='Hisar'].index)"
   ]
  },
  {
   "cell_type": "markdown",
   "id": "613b502a-da35-414e-b6c7-6bbd2c560f25",
   "metadata": {},
   "source": [
    "### Feature Selection"
   ]
  },
  {
   "cell_type": "code",
   "execution_count": 1483,
   "id": "e8fc825b-10c5-473b-b8e7-fe16a403adcb",
   "metadata": {
    "scrolled": true
   },
   "outputs": [
    {
     "data": {
      "text/html": [
       "<div>\n",
       "<style scoped>\n",
       "    .dataframe tbody tr th:only-of-type {\n",
       "        vertical-align: middle;\n",
       "    }\n",
       "\n",
       "    .dataframe tbody tr th {\n",
       "        vertical-align: top;\n",
       "    }\n",
       "\n",
       "    .dataframe thead th {\n",
       "        text-align: right;\n",
       "    }\n",
       "</style>\n",
       "<table border=\"1\" class=\"dataframe\">\n",
       "  <thead>\n",
       "    <tr style=\"text-align: right;\">\n",
       "      <th></th>\n",
       "      <th>house_type</th>\n",
       "      <th>house_size</th>\n",
       "      <th>location</th>\n",
       "      <th>city</th>\n",
       "      <th>latitude</th>\n",
       "      <th>longitude</th>\n",
       "      <th>price</th>\n",
       "      <th>currency</th>\n",
       "      <th>numBathrooms</th>\n",
       "      <th>numBalconies</th>\n",
       "      <th>isNegotiable</th>\n",
       "      <th>priceSqFt</th>\n",
       "      <th>verificationDate</th>\n",
       "      <th>description</th>\n",
       "      <th>SecurityDeposit</th>\n",
       "      <th>Status</th>\n",
       "      <th>location_map</th>\n",
       "    </tr>\n",
       "  </thead>\n",
       "  <tbody>\n",
       "    <tr>\n",
       "      <th>0</th>\n",
       "      <td>1 Rk Studio Apartment</td>\n",
       "      <td>400</td>\n",
       "      <td>Kalkaji</td>\n",
       "      <td>Delhi</td>\n",
       "      <td>28.545561</td>\n",
       "      <td>77.254349</td>\n",
       "      <td>22000</td>\n",
       "      <td>INR</td>\n",
       "      <td>1.0</td>\n",
       "      <td>NaN</td>\n",
       "      <td>NaN</td>\n",
       "      <td>NaN</td>\n",
       "      <td>Posted a day ago</td>\n",
       "      <td>Fully furnished, loaded with amenities &amp; gadge...</td>\n",
       "      <td>No Deposit</td>\n",
       "      <td>Furnished</td>\n",
       "      <td>21</td>\n",
       "    </tr>\n",
       "    <tr>\n",
       "      <th>1</th>\n",
       "      <td>1 Rk Studio Apartment</td>\n",
       "      <td>400</td>\n",
       "      <td>Mansarover Garden</td>\n",
       "      <td>Delhi</td>\n",
       "      <td>28.643259</td>\n",
       "      <td>77.132828</td>\n",
       "      <td>20000</td>\n",
       "      <td>INR</td>\n",
       "      <td>1.0</td>\n",
       "      <td>NaN</td>\n",
       "      <td>NaN</td>\n",
       "      <td>NaN</td>\n",
       "      <td>Posted 9 days ago</td>\n",
       "      <td>Here is an excellent 1 BHK Independent Floor a...</td>\n",
       "      <td>No Deposit</td>\n",
       "      <td>Furnished</td>\n",
       "      <td>5</td>\n",
       "    </tr>\n",
       "  </tbody>\n",
       "</table>\n",
       "</div>"
      ],
      "text/plain": [
       "              house_type  house_size           location   city   latitude  \\\n",
       "0  1 Rk Studio Apartment         400            Kalkaji  Delhi  28.545561   \n",
       "1  1 Rk Studio Apartment         400  Mansarover Garden  Delhi  28.643259   \n",
       "\n",
       "   longitude  price currency  numBathrooms  numBalconies isNegotiable  \\\n",
       "0  77.254349  22000      INR           1.0           NaN          NaN   \n",
       "1  77.132828  20000      INR           1.0           NaN          NaN   \n",
       "\n",
       "   priceSqFt   verificationDate  \\\n",
       "0        NaN   Posted a day ago   \n",
       "1        NaN  Posted 9 days ago   \n",
       "\n",
       "                                         description SecurityDeposit  \\\n",
       "0  Fully furnished, loaded with amenities & gadge...      No Deposit   \n",
       "1  Here is an excellent 1 BHK Independent Floor a...      No Deposit   \n",
       "\n",
       "      Status  location_map  \n",
       "0  Furnished            21  \n",
       "1  Furnished             5  "
      ]
     },
     "execution_count": 1483,
     "metadata": {},
     "output_type": "execute_result"
    }
   ],
   "source": [
    "df_copy.head(2)"
   ]
  },
  {
   "cell_type": "markdown",
   "id": "d0f7a431-9f65-40ec-8a3a-866c925243c3",
   "metadata": {},
   "source": [
    "We are going to drop some feature's latitude , longitude , currency , numberBathroms, numBalconies , isNegotiable, priceSqFt, verificationDate\tdescription, SecurityDeposit"
   ]
  },
  {
   "cell_type": "code",
   "execution_count": 1484,
   "id": "d3353e37-6e4b-44b4-8892-17ddf80c1cfa",
   "metadata": {},
   "outputs": [],
   "source": [
    "df_copy = df_copy.drop(['latitude','longitude','currency','numBathrooms','numBalconies','isNegotiable','priceSqFt','verificationDate'\n",
    "              ,'description','SecurityDeposit', 'location'], axis = 1)"
   ]
  },
  {
   "cell_type": "code",
   "execution_count": 1485,
   "id": "fa5cda65-e28a-4dec-a121-019c04a142de",
   "metadata": {},
   "outputs": [
    {
     "data": {
      "text/html": [
       "<div>\n",
       "<style scoped>\n",
       "    .dataframe tbody tr th:only-of-type {\n",
       "        vertical-align: middle;\n",
       "    }\n",
       "\n",
       "    .dataframe tbody tr th {\n",
       "        vertical-align: top;\n",
       "    }\n",
       "\n",
       "    .dataframe thead th {\n",
       "        text-align: right;\n",
       "    }\n",
       "</style>\n",
       "<table border=\"1\" class=\"dataframe\">\n",
       "  <thead>\n",
       "    <tr style=\"text-align: right;\">\n",
       "      <th></th>\n",
       "      <th>house_type</th>\n",
       "      <th>house_size</th>\n",
       "      <th>city</th>\n",
       "      <th>price</th>\n",
       "      <th>Status</th>\n",
       "      <th>location_map</th>\n",
       "    </tr>\n",
       "  </thead>\n",
       "  <tbody>\n",
       "    <tr>\n",
       "      <th>0</th>\n",
       "      <td>1 Rk Studio Apartment</td>\n",
       "      <td>400</td>\n",
       "      <td>Delhi</td>\n",
       "      <td>22000</td>\n",
       "      <td>Furnished</td>\n",
       "      <td>21</td>\n",
       "    </tr>\n",
       "    <tr>\n",
       "      <th>1</th>\n",
       "      <td>1 Rk Studio Apartment</td>\n",
       "      <td>400</td>\n",
       "      <td>Delhi</td>\n",
       "      <td>20000</td>\n",
       "      <td>Furnished</td>\n",
       "      <td>5</td>\n",
       "    </tr>\n",
       "    <tr>\n",
       "      <th>2</th>\n",
       "      <td>2 Bhk Independent Floor</td>\n",
       "      <td>500</td>\n",
       "      <td>Delhi</td>\n",
       "      <td>8500</td>\n",
       "      <td>Semi-Furnished</td>\n",
       "      <td>66</td>\n",
       "    </tr>\n",
       "    <tr>\n",
       "      <th>3</th>\n",
       "      <td>3 Bhk Independent House</td>\n",
       "      <td>1020</td>\n",
       "      <td>Delhi</td>\n",
       "      <td>48000</td>\n",
       "      <td>Furnished</td>\n",
       "      <td>8</td>\n",
       "    </tr>\n",
       "    <tr>\n",
       "      <th>4</th>\n",
       "      <td>2 Bhk Apartment</td>\n",
       "      <td>810</td>\n",
       "      <td>Delhi</td>\n",
       "      <td>20000</td>\n",
       "      <td>Unfurnished</td>\n",
       "      <td>4</td>\n",
       "    </tr>\n",
       "  </tbody>\n",
       "</table>\n",
       "</div>"
      ],
      "text/plain": [
       "                house_type  house_size   city  price          Status  \\\n",
       "0    1 Rk Studio Apartment         400  Delhi  22000       Furnished   \n",
       "1    1 Rk Studio Apartment         400  Delhi  20000       Furnished   \n",
       "2  2 Bhk Independent Floor         500  Delhi   8500  Semi-Furnished   \n",
       "3  3 Bhk Independent House        1020  Delhi  48000       Furnished   \n",
       "4          2 Bhk Apartment         810  Delhi  20000     Unfurnished   \n",
       "\n",
       "   location_map  \n",
       "0            21  \n",
       "1             5  \n",
       "2            66  \n",
       "3             8  \n",
       "4             4  "
      ]
     },
     "execution_count": 1485,
     "metadata": {},
     "output_type": "execute_result"
    }
   ],
   "source": [
    "df_copy.head()"
   ]
  },
  {
   "cell_type": "markdown",
   "id": "645fe2bf-4c63-4857-90e8-bb2883c7cfe9",
   "metadata": {},
   "source": [
    "This is my dataframe where we are going to make our model. let's analysis the maximum and minimum house_size and price"
   ]
  },
  {
   "cell_type": "code",
   "execution_count": 1486,
   "id": "e14a1d9f-ef08-41a4-b584-127cb390b2ef",
   "metadata": {},
   "outputs": [
    {
     "name": "stdout",
     "output_type": "stream",
     "text": [
      "---------------------->> House Size<<<----------------------- \n",
      "\n",
      "The Minimum House Size is : 150\n",
      "The Maximum House Size is : 9500\n",
      "\n",
      " -+-+-+-+-+-+-+-+-+-+-+-+-+-+-+-+-+-+-+-+-+-+-+-+-+-+-+-+-+-+-+ \n",
      "\n",
      "---------------------->> House Price<<<----------------------- \n",
      "\n",
      "The Minimum House Price is : 1500\n",
      "The Maximum House Price is : 2491184\n",
      "\n",
      " -+-+-+-+-+-+-+-+-+-+-+-+-+-+-+-+-+-+-+-+-+-+-+-+-+-+-+-+-+-+-+\n"
     ]
    }
   ],
   "source": [
    "print(\"---------------------->> House Size<<<-----------------------\",\"\\n\")\n",
    "print(f\"The Minimum House Size is : {df_copy.house_size.min()}\")\n",
    "print(f\"The Maximum House Size is : {df_copy.house_size.max()}\")\n",
    "print(\"\\n\", \"-+\"*31,\"\\n\")\n",
    "\n",
    "print(\"---------------------->> House Price<<<-----------------------\",\"\\n\")\n",
    "print(f\"The Minimum House Price is : {df_copy.price.min()}\")\n",
    "print(f\"The Maximum House Price is : {df_copy.price.max()}\")\n",
    "print(\"\\n\", \"-+\"*31)"
   ]
  },
  {
   "cell_type": "markdown",
   "id": "24289e90-fbb2-4fb1-bbfc-4c5d90c9ae16",
   "metadata": {},
   "source": [
    "#### Let's Observed the cit wise maximum price"
   ]
  },
  {
   "cell_type": "code",
   "execution_count": 1487,
   "id": "4befef81-66ec-4f28-892c-a19e70bc7c1f",
   "metadata": {},
   "outputs": [
    {
     "data": {
      "text/plain": [
       "city\n",
       "Delhi     2491184\n",
       "Mumbai    1200000\n",
       "Pune       425000\n",
       "Name: price, dtype: int64"
      ]
     },
     "metadata": {},
     "output_type": "display_data"
    },
    {
     "name": "stdout",
     "output_type": "stream",
     "text": [
      "\n"
     ]
    },
    {
     "data": {
      "image/png": "[encoded data removed]",
      "text/plain": [
       "<Figure size 640x480 with 1 Axes>"
      ]
     },
     "metadata": {},
     "output_type": "display_data"
    }
   ],
   "source": [
    "display(df_copy.groupby('city')['price'].max())\n",
    "print()\n",
    "plt.title(\"City Wise Maximum Price of Houses\")\n",
    "sns.barplot(x = df_copy.groupby('city')['price'].max().index , y = df_copy.groupby('city')['price'].max().values)\n",
    "plt.show()"
   ]
  },
  {
   "cell_type": "code",
   "execution_count": 1401,
   "id": "120d5c7e-51dd-41f1-9e05-ac4323784126",
   "metadata": {},
   "outputs": [
    {
     "data": {
      "image/png": "[encoded data removed]",
      "text/plain": [
       "<Figure size 640x480 with 1 Axes>"
      ]
     },
     "metadata": {},
     "output_type": "display_data"
    }
   ],
   "source": [
    "plt.title(\"Before Removing the Outliers\")\n",
    "sns.boxplot(df_copy)\n",
    "plt.show()"
   ]
  },
  {
   "cell_type": "code",
   "execution_count": 1402,
   "id": "bd4ffd1e-01a8-4524-95a3-3d2d45c1dbed",
   "metadata": {},
   "outputs": [],
   "source": [
    "s = set()\n",
    "for i in df_copy[['house_size','price','location_map']]:\n",
    "    q1 = df_copy[i].quantile(0.25)\n",
    "    q3 = df_copy[i].quantile(0.75)\n",
    "    iqr = q3-q1\n",
    "    lower_bound = q1 - 1.5 * iqr\n",
    "    upper_bound = q3 + 1.5 * iqr\n",
    "    temp = df_copy[(df_copy[i] <= lower_bound) | (df_copy[i] >= upper_bound)].index\n",
    "    s.update(set(temp))\n",
    "    \n",
    "df_copy = df_copy.drop(s)    "
   ]
  },
  {
   "cell_type": "code",
   "execution_count": 1403,
   "id": "6d747e25-63a8-4a06-96d6-99f48f23eb43",
   "metadata": {},
   "outputs": [
    {
     "data": {
      "image/png": "[encoded data removed]",
      "text/plain": [
       "<Figure size 640x480 with 1 Axes>"
      ]
     },
     "metadata": {},
     "output_type": "display_data"
    }
   ],
   "source": [
    "plt.title(\"After Removing the Outliers\")\n",
    "sns.boxplot(df_copy)\n",
    "plt.show()"
   ]
  },
  {
   "cell_type": "markdown",
   "id": "3739a2d9-4f71-40a4-b405-8b6803e98c91",
   "metadata": {},
   "source": [
    "### Spliting the Dependent & Independent Feature"
   ]
  },
  {
   "cell_type": "code",
   "execution_count": 1488,
   "id": "dd728e98-7b1b-42e2-84a1-b463c7d3471f",
   "metadata": {},
   "outputs": [],
   "source": [
    "X= df_copy.drop('price',axis = 1)\n",
    "y = df_copy['price']"
   ]
  },
  {
   "cell_type": "markdown",
   "id": "89482019-b416-42a2-afbc-91f7ce77fe4b",
   "metadata": {},
   "source": [
    "### Applying the Train_Test_Split"
   ]
  },
  {
   "cell_type": "code",
   "execution_count": 1489,
   "id": "45898c31-ef00-4940-93f4-05d81c63d7a2",
   "metadata": {},
   "outputs": [],
   "source": [
    "from sklearn.model_selection import train_test_split"
   ]
  },
  {
   "cell_type": "code",
   "execution_count": 1490,
   "id": "147ec0c1-783a-4b78-8ee6-2b1a636835ca",
   "metadata": {},
   "outputs": [],
   "source": [
    "x_train , x_test , y_train , y_test = train_test_split(X, y, random_state = 100 , test_size = 0.25)"
   ]
  },
  {
   "cell_type": "code",
   "execution_count": 1491,
   "id": "d2c7958d-60e2-45cd-ba3b-a1b629b64d1f",
   "metadata": {},
   "outputs": [
    {
     "data": {
      "text/plain": [
       "((9181, 5), (3061, 5), (9181,), (3061,))"
      ]
     },
     "execution_count": 1491,
     "metadata": {},
     "output_type": "execute_result"
    }
   ],
   "source": [
    "x_train.shape, x_test.shape, y_train.shape, y_test.shape"
   ]
  },
  {
   "cell_type": "markdown",
   "id": "324c0261-5c39-421c-a109-fa8cef845d3d",
   "metadata": {},
   "source": [
    "### OneHotEncoding:  \n",
    "Let's Apply the OneHotEncoding on Categorical Data"
   ]
  },
  {
   "cell_type": "code",
   "execution_count": 1492,
   "id": "a217d72a-5ae7-43b0-bf11-b599c887702a",
   "metadata": {},
   "outputs": [],
   "source": [
    "from sklearn.preprocessing import OneHotEncoder"
   ]
  },
  {
   "cell_type": "code",
   "execution_count": 1493,
   "id": "f98c9d1e-4d3e-4c75-901e-9e139a7dde32",
   "metadata": {},
   "outputs": [
    {
     "data": {
      "text/html": [
       "<style>#sk-container-id-46 {color: black;background-color: white;}#sk-container-id-46 pre{padding: 0;}#sk-container-id-46 div.sk-toggleable {background-color: white;}#sk-container-id-46 label.sk-toggleable__label {cursor: pointer;display: block;width: 100%;margin-bottom: 0;padding: 0.3em;box-sizing: border-box;text-align: center;}#sk-container-id-46 label.sk-toggleable__label-arrow:before {content: \"▸\";float: left;margin-right: 0.25em;color: #696969;}#sk-container-id-46 label.sk-toggleable__label-arrow:hover:before {color: black;}#sk-container-id-46 div.sk-estimator:hover label.sk-toggleable__label-arrow:before {color: black;}#sk-container-id-46 div.sk-toggleable__content {max-height: 0;max-width: 0;overflow: hidden;text-align: left;background-color: #f0f8ff;}#sk-container-id-46 div.sk-toggleable__content pre {margin: 0.2em;color: black;border-radius: 0.25em;background-color: #f0f8ff;}#sk-container-id-46 input.sk-toggleable__control:checked~div.sk-toggleable__content {max-height: 200px;max-width: 100%;overflow: auto;}#sk-container-id-46 input.sk-toggleable__control:checked~label.sk-toggleable__label-arrow:before {content: \"▾\";}#sk-container-id-46 div.sk-estimator input.sk-toggleable__control:checked~label.sk-toggleable__label {background-color: #d4ebff;}#sk-container-id-46 div.sk-label input.sk-toggleable__control:checked~label.sk-toggleable__label {background-color: #d4ebff;}#sk-container-id-46 input.sk-hidden--visually {border: 0;clip: rect(1px 1px 1px 1px);clip: rect(1px, 1px, 1px, 1px);height: 1px;margin: -1px;overflow: hidden;padding: 0;position: absolute;width: 1px;}#sk-container-id-46 div.sk-estimator {font-family: monospace;background-color: #f0f8ff;border: 1px dotted black;border-radius: 0.25em;box-sizing: border-box;margin-bottom: 0.5em;}#sk-container-id-46 div.sk-estimator:hover {background-color: #d4ebff;}#sk-container-id-46 div.sk-parallel-item::after {content: \"\";width: 100%;border-bottom: 1px solid gray;flex-grow: 1;}#sk-container-id-46 div.sk-label:hover label.sk-toggleable__label {background-color: #d4ebff;}#sk-container-id-46 div.sk-serial::before {content: \"\";position: absolute;border-left: 1px solid gray;box-sizing: border-box;top: 0;bottom: 0;left: 50%;z-index: 0;}#sk-container-id-46 div.sk-serial {display: flex;flex-direction: column;align-items: center;background-color: white;padding-right: 0.2em;padding-left: 0.2em;position: relative;}#sk-container-id-46 div.sk-item {position: relative;z-index: 1;}#sk-container-id-46 div.sk-parallel {display: flex;align-items: stretch;justify-content: center;background-color: white;position: relative;}#sk-container-id-46 div.sk-item::before, #sk-container-id-46 div.sk-parallel-item::before {content: \"\";position: absolute;border-left: 1px solid gray;box-sizing: border-box;top: 0;bottom: 0;left: 50%;z-index: -1;}#sk-container-id-46 div.sk-parallel-item {display: flex;flex-direction: column;z-index: 1;position: relative;background-color: white;}#sk-container-id-46 div.sk-parallel-item:first-child::after {align-self: flex-end;width: 50%;}#sk-container-id-46 div.sk-parallel-item:last-child::after {align-self: flex-start;width: 50%;}#sk-container-id-46 div.sk-parallel-item:only-child::after {width: 0;}#sk-container-id-46 div.sk-dashed-wrapped {border: 1px dashed gray;margin: 0 0.4em 0.5em 0.4em;box-sizing: border-box;padding-bottom: 0.4em;background-color: white;}#sk-container-id-46 div.sk-label label {font-family: monospace;font-weight: bold;display: inline-block;line-height: 1.2em;}#sk-container-id-46 div.sk-label-container {text-align: center;}#sk-container-id-46 div.sk-container {/* jupyter's `normalize.less` sets `[hidden] { display: none; }` but bootstrap.min.css set `[hidden] { display: none !important; }` so we also need the `!important` here to be able to override the default hidden behavior on the sphinx rendered scikit-learn.org. See: https://github.com/scikit-learn/scikit-learn/issues/21755 */display: inline-block !important;position: relative;}#sk-container-id-46 div.sk-text-repr-fallback {display: none;}</style><div id=\"sk-container-id-46\" class=\"sk-top-container\"><div class=\"sk-text-repr-fallback\"><pre>OneHotEncoder()</pre><b>In a Jupyter environment, please rerun this cell to show the HTML representation or trust the notebook. <br />On GitHub, the HTML representation is unable to render, please try loading this page with nbviewer.org.</b></div><div class=\"sk-container\" hidden><div class=\"sk-item\"><div class=\"sk-estimator sk-toggleable\"><input class=\"sk-toggleable__control sk-hidden--visually\" id=\"sk-estimator-id-68\" type=\"checkbox\" checked><label for=\"sk-estimator-id-68\" class=\"sk-toggleable__label sk-toggleable__label-arrow\">OneHotEncoder</label><div class=\"sk-toggleable__content\"><pre>OneHotEncoder()</pre></div></div></div></div></div>"
      ],
      "text/plain": [
       "OneHotEncoder()"
      ]
     },
     "execution_count": 1493,
     "metadata": {},
     "output_type": "execute_result"
    }
   ],
   "source": [
    "ohe = OneHotEncoder()\n",
    "ohe"
   ]
  },
  {
   "cell_type": "code",
   "execution_count": 1519,
   "id": "a00cf313-31bc-4551-a248-c9920765ba95",
   "metadata": {},
   "outputs": [
    {
     "data": {
      "text/plain": [
       "array(['house_type_1 Bhk Apartment', 'house_type_1 Bhk Independent Floor',\n",
       "       'house_type_1 Bhk Independent House',\n",
       "       'house_type_1 Rk Studio Apartment', 'house_type_2 Bhk Apartment',\n",
       "       'house_type_2 Bhk Independent Floor',\n",
       "       'house_type_2 Bhk Independent House', 'house_type_3 Bhk Apartment',\n",
       "       'house_type_3 Bhk Independent House', 'house_type_3 Bhk Villa',\n",
       "       'house_type_4 Bhk Apartment', 'house_type_4 Bhk Independent Floor',\n",
       "       'house_type_4 Bhk Independent House', 'house_type_4 Bhk Villa',\n",
       "       'house_type_5 Bhk Independent Floor',\n",
       "       'house_type_5 Bhk Independent House', 'house_type_5 Bhk Villa',\n",
       "       'city_Delhi', 'city_Mumbai', 'city_Pune', 'Status_Furnished',\n",
       "       'Status_Semi-Furnished', 'Status_Unfurnished'], dtype=object)"
      ]
     },
     "execution_count": 1519,
     "metadata": {},
     "output_type": "execute_result"
    }
   ],
   "source": [
    "ohe.get_feature_names_out()"
   ]
  },
  {
   "cell_type": "code",
   "execution_count": 1494,
   "id": "4223b15e-f92d-4165-baf5-d71ad0419bab",
   "metadata": {},
   "outputs": [],
   "source": [
    "def columns_transform(x_train_ , x_test_):\n",
    "    encoded_df = pd.DataFrame(ohe.fit_transform(x_train_[['house_type','city','Status']]).toarray(),\n",
    "                              columns = ohe.get_feature_names_out() , index = x_train_.index)\n",
    "    x_train_ = x_train_.drop(['house_type','city','Status'], axis = 1).join(encoded_df)\n",
    "\n",
    "    encoded_test = pd.DataFrame(ohe.transform(x_test_[['house_type','city','Status']]).toarray(),\n",
    "                               columns = ohe.get_feature_names_out(), index = x_test_.index)\n",
    "    x_test_ = x_test_.drop(['house_type','city','Status'], axis = 1).join(encoded_test)\n",
    "\n",
    "    return x_train_ , x_test_"
   ]
  },
  {
   "cell_type": "code",
   "execution_count": 1495,
   "id": "665e977e-8e56-4d31-b535-8b6edb0f9637",
   "metadata": {},
   "outputs": [
    {
     "data": {
      "text/html": [
       "<div>\n",
       "<style scoped>\n",
       "    .dataframe tbody tr th:only-of-type {\n",
       "        vertical-align: middle;\n",
       "    }\n",
       "\n",
       "    .dataframe tbody tr th {\n",
       "        vertical-align: top;\n",
       "    }\n",
       "\n",
       "    .dataframe thead th {\n",
       "        text-align: right;\n",
       "    }\n",
       "</style>\n",
       "<table border=\"1\" class=\"dataframe\">\n",
       "  <thead>\n",
       "    <tr style=\"text-align: right;\">\n",
       "      <th></th>\n",
       "      <th>house_size</th>\n",
       "      <th>location_map</th>\n",
       "      <th>house_type_1 Bhk Apartment</th>\n",
       "      <th>house_type_1 Bhk Independent Floor</th>\n",
       "      <th>house_type_1 Bhk Independent House</th>\n",
       "      <th>house_type_1 Rk Studio Apartment</th>\n",
       "      <th>house_type_2 Bhk Apartment</th>\n",
       "      <th>house_type_2 Bhk Independent Floor</th>\n",
       "      <th>house_type_2 Bhk Independent House</th>\n",
       "      <th>house_type_3 Bhk Apartment</th>\n",
       "      <th>...</th>\n",
       "      <th>house_type_4 Bhk Villa</th>\n",
       "      <th>house_type_5 Bhk Independent Floor</th>\n",
       "      <th>house_type_5 Bhk Independent House</th>\n",
       "      <th>house_type_5 Bhk Villa</th>\n",
       "      <th>city_Delhi</th>\n",
       "      <th>city_Mumbai</th>\n",
       "      <th>city_Pune</th>\n",
       "      <th>Status_Furnished</th>\n",
       "      <th>Status_Semi-Furnished</th>\n",
       "      <th>Status_Unfurnished</th>\n",
       "    </tr>\n",
       "  </thead>\n",
       "  <tbody>\n",
       "    <tr>\n",
       "      <th>10189</th>\n",
       "      <td>1046</td>\n",
       "      <td>157</td>\n",
       "      <td>0.0</td>\n",
       "      <td>0.0</td>\n",
       "      <td>0.0</td>\n",
       "      <td>0.0</td>\n",
       "      <td>1.0</td>\n",
       "      <td>0.0</td>\n",
       "      <td>0.0</td>\n",
       "      <td>0.0</td>\n",
       "      <td>...</td>\n",
       "      <td>0.0</td>\n",
       "      <td>0.0</td>\n",
       "      <td>0.0</td>\n",
       "      <td>0.0</td>\n",
       "      <td>0.0</td>\n",
       "      <td>0.0</td>\n",
       "      <td>1.0</td>\n",
       "      <td>1.0</td>\n",
       "      <td>0.0</td>\n",
       "      <td>0.0</td>\n",
       "    </tr>\n",
       "    <tr>\n",
       "      <th>11541</th>\n",
       "      <td>1010</td>\n",
       "      <td>743</td>\n",
       "      <td>0.0</td>\n",
       "      <td>0.0</td>\n",
       "      <td>0.0</td>\n",
       "      <td>0.0</td>\n",
       "      <td>1.0</td>\n",
       "      <td>0.0</td>\n",
       "      <td>0.0</td>\n",
       "      <td>0.0</td>\n",
       "      <td>...</td>\n",
       "      <td>0.0</td>\n",
       "      <td>0.0</td>\n",
       "      <td>0.0</td>\n",
       "      <td>0.0</td>\n",
       "      <td>0.0</td>\n",
       "      <td>0.0</td>\n",
       "      <td>1.0</td>\n",
       "      <td>0.0</td>\n",
       "      <td>1.0</td>\n",
       "      <td>0.0</td>\n",
       "    </tr>\n",
       "    <tr>\n",
       "      <th>6134</th>\n",
       "      <td>1200</td>\n",
       "      <td>108</td>\n",
       "      <td>0.0</td>\n",
       "      <td>0.0</td>\n",
       "      <td>0.0</td>\n",
       "      <td>0.0</td>\n",
       "      <td>0.0</td>\n",
       "      <td>0.0</td>\n",
       "      <td>0.0</td>\n",
       "      <td>1.0</td>\n",
       "      <td>...</td>\n",
       "      <td>0.0</td>\n",
       "      <td>0.0</td>\n",
       "      <td>0.0</td>\n",
       "      <td>0.0</td>\n",
       "      <td>0.0</td>\n",
       "      <td>1.0</td>\n",
       "      <td>0.0</td>\n",
       "      <td>0.0</td>\n",
       "      <td>1.0</td>\n",
       "      <td>0.0</td>\n",
       "    </tr>\n",
       "    <tr>\n",
       "      <th>11415</th>\n",
       "      <td>910</td>\n",
       "      <td>743</td>\n",
       "      <td>0.0</td>\n",
       "      <td>0.0</td>\n",
       "      <td>0.0</td>\n",
       "      <td>0.0</td>\n",
       "      <td>1.0</td>\n",
       "      <td>0.0</td>\n",
       "      <td>0.0</td>\n",
       "      <td>0.0</td>\n",
       "      <td>...</td>\n",
       "      <td>0.0</td>\n",
       "      <td>0.0</td>\n",
       "      <td>0.0</td>\n",
       "      <td>0.0</td>\n",
       "      <td>0.0</td>\n",
       "      <td>0.0</td>\n",
       "      <td>1.0</td>\n",
       "      <td>0.0</td>\n",
       "      <td>0.0</td>\n",
       "      <td>1.0</td>\n",
       "    </tr>\n",
       "    <tr>\n",
       "      <th>5606</th>\n",
       "      <td>850</td>\n",
       "      <td>7</td>\n",
       "      <td>0.0</td>\n",
       "      <td>0.0</td>\n",
       "      <td>0.0</td>\n",
       "      <td>0.0</td>\n",
       "      <td>1.0</td>\n",
       "      <td>0.0</td>\n",
       "      <td>0.0</td>\n",
       "      <td>0.0</td>\n",
       "      <td>...</td>\n",
       "      <td>0.0</td>\n",
       "      <td>0.0</td>\n",
       "      <td>0.0</td>\n",
       "      <td>0.0</td>\n",
       "      <td>0.0</td>\n",
       "      <td>1.0</td>\n",
       "      <td>0.0</td>\n",
       "      <td>0.0</td>\n",
       "      <td>1.0</td>\n",
       "      <td>0.0</td>\n",
       "    </tr>\n",
       "  </tbody>\n",
       "</table>\n",
       "<p>5 rows × 25 columns</p>\n",
       "</div>"
      ],
      "text/plain": [
       "       house_size  location_map  house_type_1 Bhk Apartment  \\\n",
       "10189        1046           157                         0.0   \n",
       "11541        1010           743                         0.0   \n",
       "6134         1200           108                         0.0   \n",
       "11415         910           743                         0.0   \n",
       "5606          850             7                         0.0   \n",
       "\n",
       "       house_type_1 Bhk Independent Floor  house_type_1 Bhk Independent House  \\\n",
       "10189                                 0.0                                 0.0   \n",
       "11541                                 0.0                                 0.0   \n",
       "6134                                  0.0                                 0.0   \n",
       "11415                                 0.0                                 0.0   \n",
       "5606                                  0.0                                 0.0   \n",
       "\n",
       "       house_type_1 Rk Studio Apartment  house_type_2 Bhk Apartment  \\\n",
       "10189                               0.0                         1.0   \n",
       "11541                               0.0                         1.0   \n",
       "6134                                0.0                         0.0   \n",
       "11415                               0.0                         1.0   \n",
       "5606                                0.0                         1.0   \n",
       "\n",
       "       house_type_2 Bhk Independent Floor  house_type_2 Bhk Independent House  \\\n",
       "10189                                 0.0                                 0.0   \n",
       "11541                                 0.0                                 0.0   \n",
       "6134                                  0.0                                 0.0   \n",
       "11415                                 0.0                                 0.0   \n",
       "5606                                  0.0                                 0.0   \n",
       "\n",
       "       house_type_3 Bhk Apartment  ...  house_type_4 Bhk Villa  \\\n",
       "10189                         0.0  ...                     0.0   \n",
       "11541                         0.0  ...                     0.0   \n",
       "6134                          1.0  ...                     0.0   \n",
       "11415                         0.0  ...                     0.0   \n",
       "5606                          0.0  ...                     0.0   \n",
       "\n",
       "       house_type_5 Bhk Independent Floor  house_type_5 Bhk Independent House  \\\n",
       "10189                                 0.0                                 0.0   \n",
       "11541                                 0.0                                 0.0   \n",
       "6134                                  0.0                                 0.0   \n",
       "11415                                 0.0                                 0.0   \n",
       "5606                                  0.0                                 0.0   \n",
       "\n",
       "       house_type_5 Bhk Villa  city_Delhi  city_Mumbai  city_Pune  \\\n",
       "10189                     0.0         0.0          0.0        1.0   \n",
       "11541                     0.0         0.0          0.0        1.0   \n",
       "6134                      0.0         0.0          1.0        0.0   \n",
       "11415                     0.0         0.0          0.0        1.0   \n",
       "5606                      0.0         0.0          1.0        0.0   \n",
       "\n",
       "       Status_Furnished  Status_Semi-Furnished  Status_Unfurnished  \n",
       "10189               1.0                    0.0                 0.0  \n",
       "11541               0.0                    1.0                 0.0  \n",
       "6134                0.0                    1.0                 0.0  \n",
       "11415               0.0                    0.0                 1.0  \n",
       "5606                0.0                    1.0                 0.0  \n",
       "\n",
       "[5 rows x 25 columns]"
      ]
     },
     "execution_count": 1495,
     "metadata": {},
     "output_type": "execute_result"
    }
   ],
   "source": [
    "x_train , x_test  = columns_transform(x_train , x_test)\n",
    "x_test.head()"
   ]
  },
  {
   "cell_type": "markdown",
   "id": "18009d24-d907-40e1-883d-f1c29ab2ae77",
   "metadata": {},
   "source": [
    "###### Svae the Pickle File"
   ]
  },
  {
   "cell_type": "code",
   "execution_count": 1496,
   "id": "e9536c2f-f316-4519-b126-130d3d2d1492",
   "metadata": {},
   "outputs": [],
   "source": [
    "import pickle\n",
    "f = open(\"Feature Scaling File/One_Hot.pkl\",\"wb\")\n",
    "pickle.dump(ohe, f)\n",
    "f.close()"
   ]
  },
  {
   "cell_type": "markdown",
   "id": "9e609bbf-d00c-46f1-9e80-154040ebbfe2",
   "metadata": {},
   "source": [
    "We Had Convert All the category columns in the numberical by using OneHotEncoding also we save it into binary file"
   ]
  },
  {
   "cell_type": "markdown",
   "id": "e562e31f-01ea-41e6-bb7e-f14fe5d8a56f",
   "metadata": {},
   "source": [
    "### Feature Scaling :\n",
    "Now we are going to perform the the feature transformaion using StandardScaler or MinMaxScaler Technique"
   ]
  },
  {
   "cell_type": "markdown",
   "id": "efc1a6ba-8256-4c32-b01d-8ad3031738f3",
   "metadata": {},
   "source": [
    "### MinMaxScaler"
   ]
  },
  {
   "cell_type": "code",
   "execution_count": 1413,
   "id": "76c45123-622f-4024-aada-4eb50fd9de31",
   "metadata": {},
   "outputs": [],
   "source": [
    "from sklearn.preprocessing import MinMaxScaler"
   ]
  },
  {
   "cell_type": "code",
   "execution_count": 1497,
   "id": "19f503e0-d143-4136-9e31-cfc55c2a7ff4",
   "metadata": {},
   "outputs": [
    {
     "data": {
      "text/html": [
       "<style>#sk-container-id-47 {color: black;background-color: white;}#sk-container-id-47 pre{padding: 0;}#sk-container-id-47 div.sk-toggleable {background-color: white;}#sk-container-id-47 label.sk-toggleable__label {cursor: pointer;display: block;width: 100%;margin-bottom: 0;padding: 0.3em;box-sizing: border-box;text-align: center;}#sk-container-id-47 label.sk-toggleable__label-arrow:before {content: \"▸\";float: left;margin-right: 0.25em;color: #696969;}#sk-container-id-47 label.sk-toggleable__label-arrow:hover:before {color: black;}#sk-container-id-47 div.sk-estimator:hover label.sk-toggleable__label-arrow:before {color: black;}#sk-container-id-47 div.sk-toggleable__content {max-height: 0;max-width: 0;overflow: hidden;text-align: left;background-color: #f0f8ff;}#sk-container-id-47 div.sk-toggleable__content pre {margin: 0.2em;color: black;border-radius: 0.25em;background-color: #f0f8ff;}#sk-container-id-47 input.sk-toggleable__control:checked~div.sk-toggleable__content {max-height: 200px;max-width: 100%;overflow: auto;}#sk-container-id-47 input.sk-toggleable__control:checked~label.sk-toggleable__label-arrow:before {content: \"▾\";}#sk-container-id-47 div.sk-estimator input.sk-toggleable__control:checked~label.sk-toggleable__label {background-color: #d4ebff;}#sk-container-id-47 div.sk-label input.sk-toggleable__control:checked~label.sk-toggleable__label {background-color: #d4ebff;}#sk-container-id-47 input.sk-hidden--visually {border: 0;clip: rect(1px 1px 1px 1px);clip: rect(1px, 1px, 1px, 1px);height: 1px;margin: -1px;overflow: hidden;padding: 0;position: absolute;width: 1px;}#sk-container-id-47 div.sk-estimator {font-family: monospace;background-color: #f0f8ff;border: 1px dotted black;border-radius: 0.25em;box-sizing: border-box;margin-bottom: 0.5em;}#sk-container-id-47 div.sk-estimator:hover {background-color: #d4ebff;}#sk-container-id-47 div.sk-parallel-item::after {content: \"\";width: 100%;border-bottom: 1px solid gray;flex-grow: 1;}#sk-container-id-47 div.sk-label:hover label.sk-toggleable__label {background-color: #d4ebff;}#sk-container-id-47 div.sk-serial::before {content: \"\";position: absolute;border-left: 1px solid gray;box-sizing: border-box;top: 0;bottom: 0;left: 50%;z-index: 0;}#sk-container-id-47 div.sk-serial {display: flex;flex-direction: column;align-items: center;background-color: white;padding-right: 0.2em;padding-left: 0.2em;position: relative;}#sk-container-id-47 div.sk-item {position: relative;z-index: 1;}#sk-container-id-47 div.sk-parallel {display: flex;align-items: stretch;justify-content: center;background-color: white;position: relative;}#sk-container-id-47 div.sk-item::before, #sk-container-id-47 div.sk-parallel-item::before {content: \"\";position: absolute;border-left: 1px solid gray;box-sizing: border-box;top: 0;bottom: 0;left: 50%;z-index: -1;}#sk-container-id-47 div.sk-parallel-item {display: flex;flex-direction: column;z-index: 1;position: relative;background-color: white;}#sk-container-id-47 div.sk-parallel-item:first-child::after {align-self: flex-end;width: 50%;}#sk-container-id-47 div.sk-parallel-item:last-child::after {align-self: flex-start;width: 50%;}#sk-container-id-47 div.sk-parallel-item:only-child::after {width: 0;}#sk-container-id-47 div.sk-dashed-wrapped {border: 1px dashed gray;margin: 0 0.4em 0.5em 0.4em;box-sizing: border-box;padding-bottom: 0.4em;background-color: white;}#sk-container-id-47 div.sk-label label {font-family: monospace;font-weight: bold;display: inline-block;line-height: 1.2em;}#sk-container-id-47 div.sk-label-container {text-align: center;}#sk-container-id-47 div.sk-container {/* jupyter's `normalize.less` sets `[hidden] { display: none; }` but bootstrap.min.css set `[hidden] { display: none !important; }` so we also need the `!important` here to be able to override the default hidden behavior on the sphinx rendered scikit-learn.org. See: https://github.com/scikit-learn/scikit-learn/issues/21755 */display: inline-block !important;position: relative;}#sk-container-id-47 div.sk-text-repr-fallback {display: none;}</style><div id=\"sk-container-id-47\" class=\"sk-top-container\"><div class=\"sk-text-repr-fallback\"><pre>MinMaxScaler()</pre><b>In a Jupyter environment, please rerun this cell to show the HTML representation or trust the notebook. <br />On GitHub, the HTML representation is unable to render, please try loading this page with nbviewer.org.</b></div><div class=\"sk-container\" hidden><div class=\"sk-item\"><div class=\"sk-estimator sk-toggleable\"><input class=\"sk-toggleable__control sk-hidden--visually\" id=\"sk-estimator-id-69\" type=\"checkbox\" checked><label for=\"sk-estimator-id-69\" class=\"sk-toggleable__label sk-toggleable__label-arrow\">MinMaxScaler</label><div class=\"sk-toggleable__content\"><pre>MinMaxScaler()</pre></div></div></div></div></div>"
      ],
      "text/plain": [
       "MinMaxScaler()"
      ]
     },
     "execution_count": 1497,
     "metadata": {},
     "output_type": "execute_result"
    }
   ],
   "source": [
    "mms = MinMaxScaler()\n",
    "mms"
   ]
  },
  {
   "cell_type": "code",
   "execution_count": 1498,
   "id": "9cc7c2b7-b265-41b0-8671-5dda88347a56",
   "metadata": {},
   "outputs": [],
   "source": [
    "x_train[['house_size','location_map']] = mms.fit_transform(x_train[['house_size','location_map']])\n",
    "x_test[['house_size','location_map']] = mms.transform(x_test[['house_size','location_map']])"
   ]
  },
  {
   "cell_type": "code",
   "execution_count": 1499,
   "id": "9657f75b-fd47-4210-8172-25b72307fd9c",
   "metadata": {},
   "outputs": [],
   "source": [
    "f= open(\"Feature Scaling File/MinMax_Scaler.pkl\", \"wb\")\n",
    "pickle.dump(mms, f)\n",
    "f.close()"
   ]
  },
  {
   "cell_type": "markdown",
   "id": "e4b3e3ef-7196-469f-a294-a345e47d0f65",
   "metadata": {},
   "source": [
    "We also applied the Feature Transformation on Numerical Columns as well. we applied on house_size , location_map because house_size in the form of sqft and location_map we mapped to transform the multiple location so for better model accuracy. we applied the MinMaxScaler Trasformation on That."
   ]
  },
  {
   "cell_type": "markdown",
   "id": "e8c4928e-8730-4e4e-893b-4c4c90d442c7",
   "metadata": {},
   "source": [
    "### Model Creation"
   ]
  },
  {
   "cell_type": "markdown",
   "id": "bee48e33-2ac5-47f4-9023-7d69d2173161",
   "metadata": {},
   "source": [
    "###### Let's find the best model to find the best accuracy"
   ]
  },
  {
   "cell_type": "code",
   "execution_count": 1500,
   "id": "22b57224-bacc-4567-8208-31af598ec0db",
   "metadata": {},
   "outputs": [],
   "source": [
    "from sklearn.linear_model import LinearRegression \n",
    "from sklearn.linear_model import Lasso\n",
    "from sklearn.linear_model import Ridge\n",
    "from sklearn.linear_model import ElasticNet"
   ]
  },
  {
   "cell_type": "code",
   "execution_count": 1501,
   "id": "7b2e8311-d69a-4a42-b900-9f901c7502b2",
   "metadata": {},
   "outputs": [],
   "source": [
    "lr = LinearRegression()\n",
    "lso = Lasso()\n",
    "rid = Ridge()\n",
    "enc = ElasticNet()"
   ]
  },
  {
   "cell_type": "markdown",
   "id": "49459b8f-2a53-4654-a432-29fd41cc288d",
   "metadata": {},
   "source": [
    "Here We have loaded the model the to find the best accuracy model.Now let's import the metrics to find the accuracy of the model"
   ]
  },
  {
   "cell_type": "markdown",
   "id": "a67d8a32-d8d2-49cc-9c88-f93019473702",
   "metadata": {},
   "source": [
    "### GridSearchCV:\n",
    "This GridSeachCV is hyperperameter tunning model where we can get the best perameter of our model"
   ]
  },
  {
   "cell_type": "code",
   "execution_count": 1502,
   "id": "a2929fd3-23ee-4548-b319-9a5f15441134",
   "metadata": {},
   "outputs": [],
   "source": [
    "param_grid = {'alpha': [0.1, 1.0, 10.0, 100.0]}"
   ]
  },
  {
   "cell_type": "code",
   "execution_count": 1504,
   "id": "f94d6165-087c-4ed2-9380-8b4db9391969",
   "metadata": {},
   "outputs": [],
   "source": [
    "from sklearn.model_selection import GridSearchCV"
   ]
  },
  {
   "cell_type": "code",
   "execution_count": 1505,
   "id": "29140e79-0bbb-4d7f-9a5e-b2e6f2e94993",
   "metadata": {},
   "outputs": [],
   "source": [
    "gsv_lasso = GridSearchCV(lso, param_grid = param_grid , cv = 5)\n",
    "gsv_ridge = GridSearchCV(rid, param_grid = param_grid , cv = 5)\n",
    "gsv_enc = GridSearchCV(enc , param_grid = param_grid , cv = 5)"
   ]
  },
  {
   "cell_type": "code",
   "execution_count": 1506,
   "id": "63b2e7e4-c546-4ef3-a9c1-bceb0481c405",
   "metadata": {},
   "outputs": [
    {
     "data": {
      "text/html": [
       "<style>#sk-container-id-48 {color: black;background-color: white;}#sk-container-id-48 pre{padding: 0;}#sk-container-id-48 div.sk-toggleable {background-color: white;}#sk-container-id-48 label.sk-toggleable__label {cursor: pointer;display: block;width: 100%;margin-bottom: 0;padding: 0.3em;box-sizing: border-box;text-align: center;}#sk-container-id-48 label.sk-toggleable__label-arrow:before {content: \"▸\";float: left;margin-right: 0.25em;color: #696969;}#sk-container-id-48 label.sk-toggleable__label-arrow:hover:before {color: black;}#sk-container-id-48 div.sk-estimator:hover label.sk-toggleable__label-arrow:before {color: black;}#sk-container-id-48 div.sk-toggleable__content {max-height: 0;max-width: 0;overflow: hidden;text-align: left;background-color: #f0f8ff;}#sk-container-id-48 div.sk-toggleable__content pre {margin: 0.2em;color: black;border-radius: 0.25em;background-color: #f0f8ff;}#sk-container-id-48 input.sk-toggleable__control:checked~div.sk-toggleable__content {max-height: 200px;max-width: 100%;overflow: auto;}#sk-container-id-48 input.sk-toggleable__control:checked~label.sk-toggleable__label-arrow:before {content: \"▾\";}#sk-container-id-48 div.sk-estimator input.sk-toggleable__control:checked~label.sk-toggleable__label {background-color: #d4ebff;}#sk-container-id-48 div.sk-label input.sk-toggleable__control:checked~label.sk-toggleable__label {background-color: #d4ebff;}#sk-container-id-48 input.sk-hidden--visually {border: 0;clip: rect(1px 1px 1px 1px);clip: rect(1px, 1px, 1px, 1px);height: 1px;margin: -1px;overflow: hidden;padding: 0;position: absolute;width: 1px;}#sk-container-id-48 div.sk-estimator {font-family: monospace;background-color: #f0f8ff;border: 1px dotted black;border-radius: 0.25em;box-sizing: border-box;margin-bottom: 0.5em;}#sk-container-id-48 div.sk-estimator:hover {background-color: #d4ebff;}#sk-container-id-48 div.sk-parallel-item::after {content: \"\";width: 100%;border-bottom: 1px solid gray;flex-grow: 1;}#sk-container-id-48 div.sk-label:hover label.sk-toggleable__label {background-color: #d4ebff;}#sk-container-id-48 div.sk-serial::before {content: \"\";position: absolute;border-left: 1px solid gray;box-sizing: border-box;top: 0;bottom: 0;left: 50%;z-index: 0;}#sk-container-id-48 div.sk-serial {display: flex;flex-direction: column;align-items: center;background-color: white;padding-right: 0.2em;padding-left: 0.2em;position: relative;}#sk-container-id-48 div.sk-item {position: relative;z-index: 1;}#sk-container-id-48 div.sk-parallel {display: flex;align-items: stretch;justify-content: center;background-color: white;position: relative;}#sk-container-id-48 div.sk-item::before, #sk-container-id-48 div.sk-parallel-item::before {content: \"\";position: absolute;border-left: 1px solid gray;box-sizing: border-box;top: 0;bottom: 0;left: 50%;z-index: -1;}#sk-container-id-48 div.sk-parallel-item {display: flex;flex-direction: column;z-index: 1;position: relative;background-color: white;}#sk-container-id-48 div.sk-parallel-item:first-child::after {align-self: flex-end;width: 50%;}#sk-container-id-48 div.sk-parallel-item:last-child::after {align-self: flex-start;width: 50%;}#sk-container-id-48 div.sk-parallel-item:only-child::after {width: 0;}#sk-container-id-48 div.sk-dashed-wrapped {border: 1px dashed gray;margin: 0 0.4em 0.5em 0.4em;box-sizing: border-box;padding-bottom: 0.4em;background-color: white;}#sk-container-id-48 div.sk-label label {font-family: monospace;font-weight: bold;display: inline-block;line-height: 1.2em;}#sk-container-id-48 div.sk-label-container {text-align: center;}#sk-container-id-48 div.sk-container {/* jupyter's `normalize.less` sets `[hidden] { display: none; }` but bootstrap.min.css set `[hidden] { display: none !important; }` so we also need the `!important` here to be able to override the default hidden behavior on the sphinx rendered scikit-learn.org. See: https://github.com/scikit-learn/scikit-learn/issues/21755 */display: inline-block !important;position: relative;}#sk-container-id-48 div.sk-text-repr-fallback {display: none;}</style><div id=\"sk-container-id-48\" class=\"sk-top-container\"><div class=\"sk-text-repr-fallback\"><pre>GridSearchCV(cv=5, estimator=ElasticNet(),\n",
       "             param_grid={&#x27;alpha&#x27;: [0.1, 1.0, 10.0, 100.0]})</pre><b>In a Jupyter environment, please rerun this cell to show the HTML representation or trust the notebook. <br />On GitHub, the HTML representation is unable to render, please try loading this page with nbviewer.org.</b></div><div class=\"sk-container\" hidden><div class=\"sk-item sk-dashed-wrapped\"><div class=\"sk-label-container\"><div class=\"sk-label sk-toggleable\"><input class=\"sk-toggleable__control sk-hidden--visually\" id=\"sk-estimator-id-70\" type=\"checkbox\" ><label for=\"sk-estimator-id-70\" class=\"sk-toggleable__label sk-toggleable__label-arrow\">GridSearchCV</label><div class=\"sk-toggleable__content\"><pre>GridSearchCV(cv=5, estimator=ElasticNet(),\n",
       "             param_grid={&#x27;alpha&#x27;: [0.1, 1.0, 10.0, 100.0]})</pre></div></div></div><div class=\"sk-parallel\"><div class=\"sk-parallel-item\"><div class=\"sk-item\"><div class=\"sk-label-container\"><div class=\"sk-label sk-toggleable\"><input class=\"sk-toggleable__control sk-hidden--visually\" id=\"sk-estimator-id-71\" type=\"checkbox\" ><label for=\"sk-estimator-id-71\" class=\"sk-toggleable__label sk-toggleable__label-arrow\">estimator: ElasticNet</label><div class=\"sk-toggleable__content\"><pre>ElasticNet()</pre></div></div></div><div class=\"sk-serial\"><div class=\"sk-item\"><div class=\"sk-estimator sk-toggleable\"><input class=\"sk-toggleable__control sk-hidden--visually\" id=\"sk-estimator-id-72\" type=\"checkbox\" ><label for=\"sk-estimator-id-72\" class=\"sk-toggleable__label sk-toggleable__label-arrow\">ElasticNet</label><div class=\"sk-toggleable__content\"><pre>ElasticNet()</pre></div></div></div></div></div></div></div></div></div></div>"
      ],
      "text/plain": [
       "GridSearchCV(cv=5, estimator=ElasticNet(),\n",
       "             param_grid={'alpha': [0.1, 1.0, 10.0, 100.0]})"
      ]
     },
     "execution_count": 1506,
     "metadata": {},
     "output_type": "execute_result"
    }
   ],
   "source": [
    "gsv_lasso.fit(x_train , y_train)\n",
    "gsv_ridge.fit(x_train, y_train)\n",
    "gsv_enc.fit(x_train, y_train)"
   ]
  },
  {
   "cell_type": "markdown",
   "id": "ea55d5c6-830d-48c7-bcc0-1734ba79f2bf",
   "metadata": {},
   "source": [
    "### Let's See the Best Permeter of the Model"
   ]
  },
  {
   "cell_type": "code",
   "execution_count": 1507,
   "id": "d474281f-a526-4a1d-9d35-25856ccc46e7",
   "metadata": {},
   "outputs": [
    {
     "name": "stdout",
     "output_type": "stream",
     "text": [
      "Lasso Best Params: {'alpha': 10.0}\n",
      "Lasso Best Score: 0.6834341707263142\n",
      "Ridge Best Params: {'alpha': 1.0}\n",
      "Ridge Best Score: 0.683495276076448\n",
      "ElasticNet Best Params: {'alpha': 0.1}\n",
      "ElasticNet Best Score: 0.5323168901155582\n"
     ]
    }
   ],
   "source": [
    "# Best parameters and scores\n",
    "print(\"Lasso Best Params:\", gsv_lasso.best_params_)\n",
    "print(\"Lasso Best Score:\", gsv_lasso.best_score_)\n",
    "print(\"Ridge Best Params:\", gsv_ridge.best_params_)\n",
    "print(\"Ridge Best Score:\", gsv_ridge.best_score_)\n",
    "print(\"ElasticNet Best Params:\", gsv_enc.best_params_)\n",
    "print(\"ElasticNet Best Score:\", gsv_enc.best_score_)"
   ]
  },
  {
   "cell_type": "markdown",
   "id": "330c6c79-0593-48bd-86bb-3e0d4fe07c9f",
   "metadata": {},
   "source": [
    "### Ridge:\n",
    "Ridge is best Model for us for go furthur with that"
   ]
  },
  {
   "cell_type": "markdown",
   "id": "9af66622-9a0e-4586-b9cd-d6d40af23806",
   "metadata": {},
   "source": [
    "### CrossValScore:\n",
    "The CrossValScore will let's us know what is the average accuracy with respect to different different model"
   ]
  },
  {
   "cell_type": "code",
   "execution_count": 1508,
   "id": "7177d906-384f-428b-84a5-a131c45f0e7e",
   "metadata": {},
   "outputs": [],
   "source": [
    "from sklearn.model_selection import cross_val_score"
   ]
  },
  {
   "cell_type": "code",
   "execution_count": 1509,
   "id": "a3d24f22-e419-4a98-8555-ff21775378e9",
   "metadata": {},
   "outputs": [],
   "source": [
    "cvs = cross_val_score(gsv_ridge,x_train , y_train , cv = 5)"
   ]
  },
  {
   "cell_type": "code",
   "execution_count": 1510,
   "id": "d85574f1-3f42-4724-bf0c-124c4a81a3bd",
   "metadata": {},
   "outputs": [
    {
     "data": {
      "text/plain": [
       "array([0.65915778, 0.67831964, 0.6837469 , 0.67550004, 0.72075201])"
      ]
     },
     "execution_count": 1510,
     "metadata": {},
     "output_type": "execute_result"
    }
   ],
   "source": [
    "cvs"
   ]
  },
  {
   "cell_type": "markdown",
   "id": "74506b67-e19a-40d8-9bba-0e9bf18cd0ea",
   "metadata": {},
   "source": [
    "Now we can say we got **Highest** accuracy as **72%** and **Lowest** is **65%** with respect to our model"
   ]
  },
  {
   "cell_type": "markdown",
   "id": "876eb8ac-06ed-49d0-8190-d76113daff0a",
   "metadata": {},
   "source": [
    "### Predict:\n",
    "Now we'll predict the test_data using the Ridge Regression"
   ]
  },
  {
   "cell_type": "code",
   "execution_count": 1511,
   "id": "250d1a80-fc73-4c08-8dba-6f46bca002d7",
   "metadata": {},
   "outputs": [
    {
     "data": {
      "text/html": [
       "<div>\n",
       "<style scoped>\n",
       "    .dataframe tbody tr th:only-of-type {\n",
       "        vertical-align: middle;\n",
       "    }\n",
       "\n",
       "    .dataframe tbody tr th {\n",
       "        vertical-align: top;\n",
       "    }\n",
       "\n",
       "    .dataframe thead th {\n",
       "        text-align: right;\n",
       "    }\n",
       "</style>\n",
       "<table border=\"1\" class=\"dataframe\">\n",
       "  <thead>\n",
       "    <tr style=\"text-align: right;\">\n",
       "      <th></th>\n",
       "      <th>Y_pred_Test</th>\n",
       "      <th>Y_pred_test</th>\n",
       "    </tr>\n",
       "  </thead>\n",
       "  <tbody>\n",
       "    <tr>\n",
       "      <th>10189</th>\n",
       "      <td>42000</td>\n",
       "      <td>30992.663296</td>\n",
       "    </tr>\n",
       "    <tr>\n",
       "      <th>11541</th>\n",
       "      <td>16500</td>\n",
       "      <td>1914.796424</td>\n",
       "    </tr>\n",
       "    <tr>\n",
       "      <th>6134</th>\n",
       "      <td>80000</td>\n",
       "      <td>61235.210100</td>\n",
       "    </tr>\n",
       "    <tr>\n",
       "      <th>11415</th>\n",
       "      <td>11000</td>\n",
       "      <td>-4310.461655</td>\n",
       "    </tr>\n",
       "    <tr>\n",
       "      <th>5606</th>\n",
       "      <td>80000</td>\n",
       "      <td>45113.558918</td>\n",
       "    </tr>\n",
       "  </tbody>\n",
       "</table>\n",
       "</div>"
      ],
      "text/plain": [
       "       Y_pred_Test   Y_pred_test\n",
       "10189        42000  30992.663296\n",
       "11541        16500   1914.796424\n",
       "6134         80000  61235.210100\n",
       "11415        11000  -4310.461655\n",
       "5606         80000  45113.558918"
      ]
     },
     "execution_count": 1511,
     "metadata": {},
     "output_type": "execute_result"
    }
   ],
   "source": [
    "y_pred_test = gsv_ridge.predict(x_test)\n",
    "pd.DataFrame({\"Y_pred_Test\":y_test, \"Y_pred_test\":y_pred_test}).head()"
   ]
  },
  {
   "cell_type": "markdown",
   "id": "b2dc75a4-ae17-48da-8dd0-49d64226a9be",
   "metadata": {},
   "source": [
    "### ModelAccuracy :\n",
    "Now We'll check the model_accuracy with respect to r2_score and different-different cost function"
   ]
  },
  {
   "cell_type": "code",
   "execution_count": 1512,
   "id": "30d8a071-e495-4b65-9d9e-2692d25c91d3",
   "metadata": {},
   "outputs": [],
   "source": [
    "from sklearn.metrics import mean_squared_error\n",
    "from sklearn.metrics import mean_absolute_error\n",
    "from sklearn.metrics import r2_score"
   ]
  },
  {
   "cell_type": "code",
   "execution_count": 1513,
   "id": "b80e8275-549a-465e-872f-3edd38d5f410",
   "metadata": {},
   "outputs": [
    {
     "name": "stdout",
     "output_type": "stream",
     "text": [
      "My Mean Square Error is : 11632143515.744377\n",
      "My Mean Absolute Error is : 43555.96529614579\n",
      "My Root Mean Square Error is : 107852.41543769141\n",
      "My Test Accuracy  is : 0.6977263815926331\n"
     ]
    }
   ],
   "source": [
    "mse = mean_squared_error(y_test , y_pred_test)\n",
    "mae = mean_absolute_error(y_test , y_pred_test)\n",
    "rmse = np.sqrt(mse)\n",
    "score = r2_score(y_test , y_pred_test)\n",
    "\n",
    "print(f\"My Mean Square Error is : {mse}\")\n",
    "print(f\"My Mean Absolute Error is : {mae}\")\n",
    "print(f\"My Root Mean Square Error is : {rmse}\")\n",
    "print(f\"My Test Accuracy  is : {score}\")"
   ]
  },
  {
   "cell_type": "markdown",
   "id": "797090b9-9cd3-4577-9c61-3557317f9393",
   "metadata": {},
   "source": [
    "### Appling Ridge CV:\n",
    "We are aging fitting the RidgeCV model because through GridSeachCV It'as unable to predict the output in python script file"
   ]
  },
  {
   "cell_type": "code",
   "execution_count": 1525,
   "id": "a42026fb-87ac-4775-88f5-6d68f570cbb2",
   "metadata": {},
   "outputs": [],
   "source": [
    "from sklearn.linear_model import RidgeCV"
   ]
  },
  {
   "cell_type": "code",
   "execution_count": 1537,
   "id": "918ebd37-a815-4fb9-86e7-ec966f16dad8",
   "metadata": {},
   "outputs": [],
   "source": [
    "rc = RidgeCV(alphas=(1.0,100) , cv = 5)"
   ]
  },
  {
   "cell_type": "code",
   "execution_count": 1538,
   "id": "95beb3de-2f5e-44a6-ab6a-f23da7c0fc84",
   "metadata": {},
   "outputs": [
    {
     "data": {
      "text/html": [
       "<style>#sk-container-id-53 {color: black;background-color: white;}#sk-container-id-53 pre{padding: 0;}#sk-container-id-53 div.sk-toggleable {background-color: white;}#sk-container-id-53 label.sk-toggleable__label {cursor: pointer;display: block;width: 100%;margin-bottom: 0;padding: 0.3em;box-sizing: border-box;text-align: center;}#sk-container-id-53 label.sk-toggleable__label-arrow:before {content: \"▸\";float: left;margin-right: 0.25em;color: #696969;}#sk-container-id-53 label.sk-toggleable__label-arrow:hover:before {color: black;}#sk-container-id-53 div.sk-estimator:hover label.sk-toggleable__label-arrow:before {color: black;}#sk-container-id-53 div.sk-toggleable__content {max-height: 0;max-width: 0;overflow: hidden;text-align: left;background-color: #f0f8ff;}#sk-container-id-53 div.sk-toggleable__content pre {margin: 0.2em;color: black;border-radius: 0.25em;background-color: #f0f8ff;}#sk-container-id-53 input.sk-toggleable__control:checked~div.sk-toggleable__content {max-height: 200px;max-width: 100%;overflow: auto;}#sk-container-id-53 input.sk-toggleable__control:checked~label.sk-toggleable__label-arrow:before {content: \"▾\";}#sk-container-id-53 div.sk-estimator input.sk-toggleable__control:checked~label.sk-toggleable__label {background-color: #d4ebff;}#sk-container-id-53 div.sk-label input.sk-toggleable__control:checked~label.sk-toggleable__label {background-color: #d4ebff;}#sk-container-id-53 input.sk-hidden--visually {border: 0;clip: rect(1px 1px 1px 1px);clip: rect(1px, 1px, 1px, 1px);height: 1px;margin: -1px;overflow: hidden;padding: 0;position: absolute;width: 1px;}#sk-container-id-53 div.sk-estimator {font-family: monospace;background-color: #f0f8ff;border: 1px dotted black;border-radius: 0.25em;box-sizing: border-box;margin-bottom: 0.5em;}#sk-container-id-53 div.sk-estimator:hover {background-color: #d4ebff;}#sk-container-id-53 div.sk-parallel-item::after {content: \"\";width: 100%;border-bottom: 1px solid gray;flex-grow: 1;}#sk-container-id-53 div.sk-label:hover label.sk-toggleable__label {background-color: #d4ebff;}#sk-container-id-53 div.sk-serial::before {content: \"\";position: absolute;border-left: 1px solid gray;box-sizing: border-box;top: 0;bottom: 0;left: 50%;z-index: 0;}#sk-container-id-53 div.sk-serial {display: flex;flex-direction: column;align-items: center;background-color: white;padding-right: 0.2em;padding-left: 0.2em;position: relative;}#sk-container-id-53 div.sk-item {position: relative;z-index: 1;}#sk-container-id-53 div.sk-parallel {display: flex;align-items: stretch;justify-content: center;background-color: white;position: relative;}#sk-container-id-53 div.sk-item::before, #sk-container-id-53 div.sk-parallel-item::before {content: \"\";position: absolute;border-left: 1px solid gray;box-sizing: border-box;top: 0;bottom: 0;left: 50%;z-index: -1;}#sk-container-id-53 div.sk-parallel-item {display: flex;flex-direction: column;z-index: 1;position: relative;background-color: white;}#sk-container-id-53 div.sk-parallel-item:first-child::after {align-self: flex-end;width: 50%;}#sk-container-id-53 div.sk-parallel-item:last-child::after {align-self: flex-start;width: 50%;}#sk-container-id-53 div.sk-parallel-item:only-child::after {width: 0;}#sk-container-id-53 div.sk-dashed-wrapped {border: 1px dashed gray;margin: 0 0.4em 0.5em 0.4em;box-sizing: border-box;padding-bottom: 0.4em;background-color: white;}#sk-container-id-53 div.sk-label label {font-family: monospace;font-weight: bold;display: inline-block;line-height: 1.2em;}#sk-container-id-53 div.sk-label-container {text-align: center;}#sk-container-id-53 div.sk-container {/* jupyter's `normalize.less` sets `[hidden] { display: none; }` but bootstrap.min.css set `[hidden] { display: none !important; }` so we also need the `!important` here to be able to override the default hidden behavior on the sphinx rendered scikit-learn.org. See: https://github.com/scikit-learn/scikit-learn/issues/21755 */display: inline-block !important;position: relative;}#sk-container-id-53 div.sk-text-repr-fallback {display: none;}</style><div id=\"sk-container-id-53\" class=\"sk-top-container\"><div class=\"sk-text-repr-fallback\"><pre>RidgeCV(alphas=(1.0, 100), cv=5)</pre><b>In a Jupyter environment, please rerun this cell to show the HTML representation or trust the notebook. <br />On GitHub, the HTML representation is unable to render, please try loading this page with nbviewer.org.</b></div><div class=\"sk-container\" hidden><div class=\"sk-item\"><div class=\"sk-estimator sk-toggleable\"><input class=\"sk-toggleable__control sk-hidden--visually\" id=\"sk-estimator-id-81\" type=\"checkbox\" checked><label for=\"sk-estimator-id-81\" class=\"sk-toggleable__label sk-toggleable__label-arrow\">RidgeCV</label><div class=\"sk-toggleable__content\"><pre>RidgeCV(alphas=(1.0, 100), cv=5)</pre></div></div></div></div></div>"
      ],
      "text/plain": [
       "RidgeCV(alphas=(1.0, 100), cv=5)"
      ]
     },
     "execution_count": 1538,
     "metadata": {},
     "output_type": "execute_result"
    }
   ],
   "source": [
    "rc.fit(x_train, y_train)"
   ]
  },
  {
   "cell_type": "code",
   "execution_count": 1548,
   "id": "044ee763-1bac-4b5b-b54e-eb06d8891116",
   "metadata": {},
   "outputs": [],
   "source": [
    "rc_y_pred_test =rc.predict(x_test)"
   ]
  },
  {
   "cell_type": "code",
   "execution_count": 1549,
   "id": "26452783-b097-46ba-a56c-bfb52dddfc8e",
   "metadata": {},
   "outputs": [
    {
     "name": "stdout",
     "output_type": "stream",
     "text": [
      "My Mean Square Error is : 11632143515.744377\n",
      "My Mean Absolute Error is : 43555.96529614579\n",
      "My Root Mean Square Error is : 107852.41543769141\n",
      "My Test Accuracy  is : 0.6977263815926331\n"
     ]
    }
   ],
   "source": [
    "mse = mean_squared_error(y_test , rc_y_pred_test)\n",
    "mae = mean_absolute_error(y_test , rc_y_pred_test)\n",
    "rmse = np.sqrt(mse)\n",
    "score = r2_score(y_test , rc_y_pred_test)\n",
    "\n",
    "print(f\"My Mean Square Error is : {mse}\")\n",
    "print(f\"My Mean Absolute Error is : {mae}\")\n",
    "print(f\"My Root Mean Square Error is : {rmse}\")\n",
    "print(f\"My Test Accuracy  is : {score}\")"
   ]
  },
  {
   "cell_type": "code",
   "execution_count": 1550,
   "id": "46d107a5-b0bc-4314-8634-341b187c37c7",
   "metadata": {},
   "outputs": [],
   "source": [
    "f = open(\"Model_File/Model.pkl\", \"wb\")\n",
    "pickle.dump(rc,f)\n",
    "f.close()"
   ]
  },
  {
   "cell_type": "code",
   "execution_count": 1551,
   "id": "71011a90-7373-4f3e-ae91-5a5e0350240a",
   "metadata": {},
   "outputs": [
    {
     "data": {
      "text/html": [
       "<style>#sk-container-id-54 {color: black;background-color: white;}#sk-container-id-54 pre{padding: 0;}#sk-container-id-54 div.sk-toggleable {background-color: white;}#sk-container-id-54 label.sk-toggleable__label {cursor: pointer;display: block;width: 100%;margin-bottom: 0;padding: 0.3em;box-sizing: border-box;text-align: center;}#sk-container-id-54 label.sk-toggleable__label-arrow:before {content: \"▸\";float: left;margin-right: 0.25em;color: #696969;}#sk-container-id-54 label.sk-toggleable__label-arrow:hover:before {color: black;}#sk-container-id-54 div.sk-estimator:hover label.sk-toggleable__label-arrow:before {color: black;}#sk-container-id-54 div.sk-toggleable__content {max-height: 0;max-width: 0;overflow: hidden;text-align: left;background-color: #f0f8ff;}#sk-container-id-54 div.sk-toggleable__content pre {margin: 0.2em;color: black;border-radius: 0.25em;background-color: #f0f8ff;}#sk-container-id-54 input.sk-toggleable__control:checked~div.sk-toggleable__content {max-height: 200px;max-width: 100%;overflow: auto;}#sk-container-id-54 input.sk-toggleable__control:checked~label.sk-toggleable__label-arrow:before {content: \"▾\";}#sk-container-id-54 div.sk-estimator input.sk-toggleable__control:checked~label.sk-toggleable__label {background-color: #d4ebff;}#sk-container-id-54 div.sk-label input.sk-toggleable__control:checked~label.sk-toggleable__label {background-color: #d4ebff;}#sk-container-id-54 input.sk-hidden--visually {border: 0;clip: rect(1px 1px 1px 1px);clip: rect(1px, 1px, 1px, 1px);height: 1px;margin: -1px;overflow: hidden;padding: 0;position: absolute;width: 1px;}#sk-container-id-54 div.sk-estimator {font-family: monospace;background-color: #f0f8ff;border: 1px dotted black;border-radius: 0.25em;box-sizing: border-box;margin-bottom: 0.5em;}#sk-container-id-54 div.sk-estimator:hover {background-color: #d4ebff;}#sk-container-id-54 div.sk-parallel-item::after {content: \"\";width: 100%;border-bottom: 1px solid gray;flex-grow: 1;}#sk-container-id-54 div.sk-label:hover label.sk-toggleable__label {background-color: #d4ebff;}#sk-container-id-54 div.sk-serial::before {content: \"\";position: absolute;border-left: 1px solid gray;box-sizing: border-box;top: 0;bottom: 0;left: 50%;z-index: 0;}#sk-container-id-54 div.sk-serial {display: flex;flex-direction: column;align-items: center;background-color: white;padding-right: 0.2em;padding-left: 0.2em;position: relative;}#sk-container-id-54 div.sk-item {position: relative;z-index: 1;}#sk-container-id-54 div.sk-parallel {display: flex;align-items: stretch;justify-content: center;background-color: white;position: relative;}#sk-container-id-54 div.sk-item::before, #sk-container-id-54 div.sk-parallel-item::before {content: \"\";position: absolute;border-left: 1px solid gray;box-sizing: border-box;top: 0;bottom: 0;left: 50%;z-index: -1;}#sk-container-id-54 div.sk-parallel-item {display: flex;flex-direction: column;z-index: 1;position: relative;background-color: white;}#sk-container-id-54 div.sk-parallel-item:first-child::after {align-self: flex-end;width: 50%;}#sk-container-id-54 div.sk-parallel-item:last-child::after {align-self: flex-start;width: 50%;}#sk-container-id-54 div.sk-parallel-item:only-child::after {width: 0;}#sk-container-id-54 div.sk-dashed-wrapped {border: 1px dashed gray;margin: 0 0.4em 0.5em 0.4em;box-sizing: border-box;padding-bottom: 0.4em;background-color: white;}#sk-container-id-54 div.sk-label label {font-family: monospace;font-weight: bold;display: inline-block;line-height: 1.2em;}#sk-container-id-54 div.sk-label-container {text-align: center;}#sk-container-id-54 div.sk-container {/* jupyter's `normalize.less` sets `[hidden] { display: none; }` but bootstrap.min.css set `[hidden] { display: none !important; }` so we also need the `!important` here to be able to override the default hidden behavior on the sphinx rendered scikit-learn.org. See: https://github.com/scikit-learn/scikit-learn/issues/21755 */display: inline-block !important;position: relative;}#sk-container-id-54 div.sk-text-repr-fallback {display: none;}</style><div id=\"sk-container-id-54\" class=\"sk-top-container\"><div class=\"sk-text-repr-fallback\"><pre>RidgeCV(alphas=(1.0, 100), cv=5)</pre><b>In a Jupyter environment, please rerun this cell to show the HTML representation or trust the notebook. <br />On GitHub, the HTML representation is unable to render, please try loading this page with nbviewer.org.</b></div><div class=\"sk-container\" hidden><div class=\"sk-item\"><div class=\"sk-estimator sk-toggleable\"><input class=\"sk-toggleable__control sk-hidden--visually\" id=\"sk-estimator-id-82\" type=\"checkbox\" checked><label for=\"sk-estimator-id-82\" class=\"sk-toggleable__label sk-toggleable__label-arrow\">RidgeCV</label><div class=\"sk-toggleable__content\"><pre>RidgeCV(alphas=(1.0, 100), cv=5)</pre></div></div></div></div></div>"
      ],
      "text/plain": [
       "RidgeCV(alphas=(1.0, 100), cv=5)"
      ]
     },
     "execution_count": 1551,
     "metadata": {},
     "output_type": "execute_result"
    }
   ],
   "source": [
    "f = open(\"Model_File/Model.pkl\", \"rb\")\n",
    "pickle.load(f)"
   ]
  },
  {
   "cell_type": "markdown",
   "id": "fc4d0a59-101b-44ce-b29e-808c62f89a81",
   "metadata": {},
   "source": [
    "### We Found Our Test Accuracy as 69% which is Preety Average"
   ]
  },
  {
   "cell_type": "code",
   "execution_count": 1576,
   "id": "720852aa-b611-496a-b9f0-40451e1bd266",
   "metadata": {},
   "outputs": [
    {
     "name": "stdout",
     "output_type": "stream",
     "text": [
      "1.26.4\n",
      "2.1.4\n",
      "1.2.2\n"
     ]
    }
   ],
   "source": [
    "print(np.__version__)\n",
    "print(pd.__version__)\n",
    "print(sklearn.__version__)"
   ]
  }
 ],
 "metadata": {
  "kernelspec": {
   "display_name": "Python 3 (ipykernel)",
   "language": "python",
   "name": "python3"
  },
  "language_info": {
   "codemirror_mode": {
    "name": "ipython",
    "version": 3
   },
   "file_extension": ".py",
   "mimetype": "text/x-python",
   "name": "python",
   "nbconvert_exporter": "python",
   "pygments_lexer": "ipython3",
   "version": "3.11.7"
  }
 },
 "nbformat": 4,
 "nbformat_minor": 5
}
